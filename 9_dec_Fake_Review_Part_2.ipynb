{
  "cells": [
    {
      "cell_type": "code",
      "execution_count": 56,
      "metadata": {
        "id": "4Nsrt_6GFX_Y",
        "colab": {
          "base_uri": "https://localhost:8080/"
        },
        "outputId": "6dce13e1-9132-403d-bdec-2d3038f6b4a7"
      },
      "outputs": [
        {
          "output_type": "stream",
          "name": "stderr",
          "text": [
            "[nltk_data] Downloading package stopwords to /root/nltk_data...\n",
            "[nltk_data]   Package stopwords is already up-to-date!\n"
          ]
        }
      ],
      "source": [
        "import numpy as np  # for nd arrays\n",
        "import pandas as pd   # dataframes\n",
        "import seaborn as sns   #plotting\n",
        "import matplotlib.pyplot as plt\n",
        "import warnings, string\n",
        "warnings.filterwarnings('ignore')\n",
        "import nltk\n",
        "from nltk.corpus import stopwords       \n",
        "from google.colab import files\n",
        "from sklearn.feature_extraction.text import CountVectorizer, TfidfTransformer\n",
        "from sklearn.model_selection import train_test_split, GridSearchCV\n",
        "from sklearn.pipeline import Pipeline\n",
        "from sklearn.naive_bayes import MultinomialNB\n",
        "from sklearn.ensemble import RandomForestClassifier\n",
        "from sklearn.tree import DecisionTreeClassifier\n",
        "from sklearn.neighbors import KNeighborsClassifier\n",
        "from sklearn.svm import SVC\n",
        "from sklearn.linear_model import LogisticRegression\n",
        "\n",
        "nltk.download('stopwords')\n",
        "from sklearn.metrics import classification_report, confusion_matrix, accuracy_score\n"
      ]
    },
    {
      "cell_type": "code",
      "execution_count": 3,
      "metadata": {
        "colab": {
          "base_uri": "https://localhost:8080/",
          "height": 73
        },
        "id": "N3vG09jvGpbM",
        "outputId": "5ae7df8b-447d-435a-f16c-dfc438b90c90"
      },
      "outputs": [
        {
          "output_type": "display_data",
          "data": {
            "text/plain": [
              "<IPython.core.display.HTML object>"
            ],
            "text/html": [
              "\n",
              "     <input type=\"file\" id=\"files-e001d8a7-67aa-4c5a-9cef-d7da7524f7b8\" name=\"files[]\" multiple disabled\n",
              "        style=\"border:none\" />\n",
              "     <output id=\"result-e001d8a7-67aa-4c5a-9cef-d7da7524f7b8\">\n",
              "      Upload widget is only available when the cell has been executed in the\n",
              "      current browser session. Please rerun this cell to enable.\n",
              "      </output>\n",
              "      <script>// Copyright 2017 Google LLC\n",
              "//\n",
              "// Licensed under the Apache License, Version 2.0 (the \"License\");\n",
              "// you may not use this file except in compliance with the License.\n",
              "// You may obtain a copy of the License at\n",
              "//\n",
              "//      http://www.apache.org/licenses/LICENSE-2.0\n",
              "//\n",
              "// Unless required by applicable law or agreed to in writing, software\n",
              "// distributed under the License is distributed on an \"AS IS\" BASIS,\n",
              "// WITHOUT WARRANTIES OR CONDITIONS OF ANY KIND, either express or implied.\n",
              "// See the License for the specific language governing permissions and\n",
              "// limitations under the License.\n",
              "\n",
              "/**\n",
              " * @fileoverview Helpers for google.colab Python module.\n",
              " */\n",
              "(function(scope) {\n",
              "function span(text, styleAttributes = {}) {\n",
              "  const element = document.createElement('span');\n",
              "  element.textContent = text;\n",
              "  for (const key of Object.keys(styleAttributes)) {\n",
              "    element.style[key] = styleAttributes[key];\n",
              "  }\n",
              "  return element;\n",
              "}\n",
              "\n",
              "// Max number of bytes which will be uploaded at a time.\n",
              "const MAX_PAYLOAD_SIZE = 100 * 1024;\n",
              "\n",
              "function _uploadFiles(inputId, outputId) {\n",
              "  const steps = uploadFilesStep(inputId, outputId);\n",
              "  const outputElement = document.getElementById(outputId);\n",
              "  // Cache steps on the outputElement to make it available for the next call\n",
              "  // to uploadFilesContinue from Python.\n",
              "  outputElement.steps = steps;\n",
              "\n",
              "  return _uploadFilesContinue(outputId);\n",
              "}\n",
              "\n",
              "// This is roughly an async generator (not supported in the browser yet),\n",
              "// where there are multiple asynchronous steps and the Python side is going\n",
              "// to poll for completion of each step.\n",
              "// This uses a Promise to block the python side on completion of each step,\n",
              "// then passes the result of the previous step as the input to the next step.\n",
              "function _uploadFilesContinue(outputId) {\n",
              "  const outputElement = document.getElementById(outputId);\n",
              "  const steps = outputElement.steps;\n",
              "\n",
              "  const next = steps.next(outputElement.lastPromiseValue);\n",
              "  return Promise.resolve(next.value.promise).then((value) => {\n",
              "    // Cache the last promise value to make it available to the next\n",
              "    // step of the generator.\n",
              "    outputElement.lastPromiseValue = value;\n",
              "    return next.value.response;\n",
              "  });\n",
              "}\n",
              "\n",
              "/**\n",
              " * Generator function which is called between each async step of the upload\n",
              " * process.\n",
              " * @param {string} inputId Element ID of the input file picker element.\n",
              " * @param {string} outputId Element ID of the output display.\n",
              " * @return {!Iterable<!Object>} Iterable of next steps.\n",
              " */\n",
              "function* uploadFilesStep(inputId, outputId) {\n",
              "  const inputElement = document.getElementById(inputId);\n",
              "  inputElement.disabled = false;\n",
              "\n",
              "  const outputElement = document.getElementById(outputId);\n",
              "  outputElement.innerHTML = '';\n",
              "\n",
              "  const pickedPromise = new Promise((resolve) => {\n",
              "    inputElement.addEventListener('change', (e) => {\n",
              "      resolve(e.target.files);\n",
              "    });\n",
              "  });\n",
              "\n",
              "  const cancel = document.createElement('button');\n",
              "  inputElement.parentElement.appendChild(cancel);\n",
              "  cancel.textContent = 'Cancel upload';\n",
              "  const cancelPromise = new Promise((resolve) => {\n",
              "    cancel.onclick = () => {\n",
              "      resolve(null);\n",
              "    };\n",
              "  });\n",
              "\n",
              "  // Wait for the user to pick the files.\n",
              "  const files = yield {\n",
              "    promise: Promise.race([pickedPromise, cancelPromise]),\n",
              "    response: {\n",
              "      action: 'starting',\n",
              "    }\n",
              "  };\n",
              "\n",
              "  cancel.remove();\n",
              "\n",
              "  // Disable the input element since further picks are not allowed.\n",
              "  inputElement.disabled = true;\n",
              "\n",
              "  if (!files) {\n",
              "    return {\n",
              "      response: {\n",
              "        action: 'complete',\n",
              "      }\n",
              "    };\n",
              "  }\n",
              "\n",
              "  for (const file of files) {\n",
              "    const li = document.createElement('li');\n",
              "    li.append(span(file.name, {fontWeight: 'bold'}));\n",
              "    li.append(span(\n",
              "        `(${file.type || 'n/a'}) - ${file.size} bytes, ` +\n",
              "        `last modified: ${\n",
              "            file.lastModifiedDate ? file.lastModifiedDate.toLocaleDateString() :\n",
              "                                    'n/a'} - `));\n",
              "    const percent = span('0% done');\n",
              "    li.appendChild(percent);\n",
              "\n",
              "    outputElement.appendChild(li);\n",
              "\n",
              "    const fileDataPromise = new Promise((resolve) => {\n",
              "      const reader = new FileReader();\n",
              "      reader.onload = (e) => {\n",
              "        resolve(e.target.result);\n",
              "      };\n",
              "      reader.readAsArrayBuffer(file);\n",
              "    });\n",
              "    // Wait for the data to be ready.\n",
              "    let fileData = yield {\n",
              "      promise: fileDataPromise,\n",
              "      response: {\n",
              "        action: 'continue',\n",
              "      }\n",
              "    };\n",
              "\n",
              "    // Use a chunked sending to avoid message size limits. See b/62115660.\n",
              "    let position = 0;\n",
              "    do {\n",
              "      const length = Math.min(fileData.byteLength - position, MAX_PAYLOAD_SIZE);\n",
              "      const chunk = new Uint8Array(fileData, position, length);\n",
              "      position += length;\n",
              "\n",
              "      const base64 = btoa(String.fromCharCode.apply(null, chunk));\n",
              "      yield {\n",
              "        response: {\n",
              "          action: 'append',\n",
              "          file: file.name,\n",
              "          data: base64,\n",
              "        },\n",
              "      };\n",
              "\n",
              "      let percentDone = fileData.byteLength === 0 ?\n",
              "          100 :\n",
              "          Math.round((position / fileData.byteLength) * 100);\n",
              "      percent.textContent = `${percentDone}% done`;\n",
              "\n",
              "    } while (position < fileData.byteLength);\n",
              "  }\n",
              "\n",
              "  // All done.\n",
              "  yield {\n",
              "    response: {\n",
              "      action: 'complete',\n",
              "    }\n",
              "  };\n",
              "}\n",
              "\n",
              "scope.google = scope.google || {};\n",
              "scope.google.colab = scope.google.colab || {};\n",
              "scope.google.colab._files = {\n",
              "  _uploadFiles,\n",
              "  _uploadFilesContinue,\n",
              "};\n",
              "})(self);\n",
              "</script> "
            ]
          },
          "metadata": {}
        },
        {
          "output_type": "stream",
          "name": "stdout",
          "text": [
            "Saving Preprocessed Fake Reviews Detection Dataset (2).csv to Preprocessed Fake Reviews Detection Dataset (2) (1).csv\n"
          ]
        }
      ],
      "source": [
        "uploaded = files.upload()"
      ]
    },
    {
      "cell_type": "code",
      "execution_count": 4,
      "metadata": {
        "id": "eO1eLxn0Gpq0"
      },
      "outputs": [],
      "source": [
        "df = pd.read_csv('Preprocessed Fake Reviews Detection Dataset (2).csv')"
      ]
    },
    {
      "cell_type": "code",
      "execution_count": 5,
      "metadata": {
        "colab": {
          "base_uri": "https://localhost:8080/",
          "height": 206
        },
        "id": "fWwXywtFGp0l",
        "outputId": "d1791e8f-4597-40fa-b1ed-e88f3603c76a"
      },
      "outputs": [
        {
          "output_type": "execute_result",
          "data": {
            "text/plain": [
              "   Unnamed: 0            category  rating label  \\\n",
              "0           0  Home_and_Kitchen_5     5.0    CG   \n",
              "1           1  Home_and_Kitchen_5     5.0    CG   \n",
              "2           2  Home_and_Kitchen_5     5.0    CG   \n",
              "3           3  Home_and_Kitchen_5     1.0    CG   \n",
              "4           4  Home_and_Kitchen_5     5.0    CG   \n",
              "\n",
              "                                          text_  \n",
              "0     love well made sturdi comfort love pretti  \n",
              "1  love great upgrad origin 've mine coupl year  \n",
              "2        pillow save back love look feel pillow  \n",
              "3           miss inform use great product price  \n",
              "4           nice set good qualiti set two month  "
            ],
            "text/html": [
              "\n",
              "  <div id=\"df-deb0d05e-4fcd-4fed-b98a-4e95d20843ce\">\n",
              "    <div class=\"colab-df-container\">\n",
              "      <div>\n",
              "<style scoped>\n",
              "    .dataframe tbody tr th:only-of-type {\n",
              "        vertical-align: middle;\n",
              "    }\n",
              "\n",
              "    .dataframe tbody tr th {\n",
              "        vertical-align: top;\n",
              "    }\n",
              "\n",
              "    .dataframe thead th {\n",
              "        text-align: right;\n",
              "    }\n",
              "</style>\n",
              "<table border=\"1\" class=\"dataframe\">\n",
              "  <thead>\n",
              "    <tr style=\"text-align: right;\">\n",
              "      <th></th>\n",
              "      <th>Unnamed: 0</th>\n",
              "      <th>category</th>\n",
              "      <th>rating</th>\n",
              "      <th>label</th>\n",
              "      <th>text_</th>\n",
              "    </tr>\n",
              "  </thead>\n",
              "  <tbody>\n",
              "    <tr>\n",
              "      <th>0</th>\n",
              "      <td>0</td>\n",
              "      <td>Home_and_Kitchen_5</td>\n",
              "      <td>5.0</td>\n",
              "      <td>CG</td>\n",
              "      <td>love well made sturdi comfort love pretti</td>\n",
              "    </tr>\n",
              "    <tr>\n",
              "      <th>1</th>\n",
              "      <td>1</td>\n",
              "      <td>Home_and_Kitchen_5</td>\n",
              "      <td>5.0</td>\n",
              "      <td>CG</td>\n",
              "      <td>love great upgrad origin 've mine coupl year</td>\n",
              "    </tr>\n",
              "    <tr>\n",
              "      <th>2</th>\n",
              "      <td>2</td>\n",
              "      <td>Home_and_Kitchen_5</td>\n",
              "      <td>5.0</td>\n",
              "      <td>CG</td>\n",
              "      <td>pillow save back love look feel pillow</td>\n",
              "    </tr>\n",
              "    <tr>\n",
              "      <th>3</th>\n",
              "      <td>3</td>\n",
              "      <td>Home_and_Kitchen_5</td>\n",
              "      <td>1.0</td>\n",
              "      <td>CG</td>\n",
              "      <td>miss inform use great product price</td>\n",
              "    </tr>\n",
              "    <tr>\n",
              "      <th>4</th>\n",
              "      <td>4</td>\n",
              "      <td>Home_and_Kitchen_5</td>\n",
              "      <td>5.0</td>\n",
              "      <td>CG</td>\n",
              "      <td>nice set good qualiti set two month</td>\n",
              "    </tr>\n",
              "  </tbody>\n",
              "</table>\n",
              "</div>\n",
              "      <button class=\"colab-df-convert\" onclick=\"convertToInteractive('df-deb0d05e-4fcd-4fed-b98a-4e95d20843ce')\"\n",
              "              title=\"Convert this dataframe to an interactive table.\"\n",
              "              style=\"display:none;\">\n",
              "        \n",
              "  <svg xmlns=\"http://www.w3.org/2000/svg\" height=\"24px\"viewBox=\"0 0 24 24\"\n",
              "       width=\"24px\">\n",
              "    <path d=\"M0 0h24v24H0V0z\" fill=\"none\"/>\n",
              "    <path d=\"M18.56 5.44l.94 2.06.94-2.06 2.06-.94-2.06-.94-.94-2.06-.94 2.06-2.06.94zm-11 1L8.5 8.5l.94-2.06 2.06-.94-2.06-.94L8.5 2.5l-.94 2.06-2.06.94zm10 10l.94 2.06.94-2.06 2.06-.94-2.06-.94-.94-2.06-.94 2.06-2.06.94z\"/><path d=\"M17.41 7.96l-1.37-1.37c-.4-.4-.92-.59-1.43-.59-.52 0-1.04.2-1.43.59L10.3 9.45l-7.72 7.72c-.78.78-.78 2.05 0 2.83L4 21.41c.39.39.9.59 1.41.59.51 0 1.02-.2 1.41-.59l7.78-7.78 2.81-2.81c.8-.78.8-2.07 0-2.86zM5.41 20L4 18.59l7.72-7.72 1.47 1.35L5.41 20z\"/>\n",
              "  </svg>\n",
              "      </button>\n",
              "      \n",
              "  <style>\n",
              "    .colab-df-container {\n",
              "      display:flex;\n",
              "      flex-wrap:wrap;\n",
              "      gap: 12px;\n",
              "    }\n",
              "\n",
              "    .colab-df-convert {\n",
              "      background-color: #E8F0FE;\n",
              "      border: none;\n",
              "      border-radius: 50%;\n",
              "      cursor: pointer;\n",
              "      display: none;\n",
              "      fill: #1967D2;\n",
              "      height: 32px;\n",
              "      padding: 0 0 0 0;\n",
              "      width: 32px;\n",
              "    }\n",
              "\n",
              "    .colab-df-convert:hover {\n",
              "      background-color: #E2EBFA;\n",
              "      box-shadow: 0px 1px 2px rgba(60, 64, 67, 0.3), 0px 1px 3px 1px rgba(60, 64, 67, 0.15);\n",
              "      fill: #174EA6;\n",
              "    }\n",
              "\n",
              "    [theme=dark] .colab-df-convert {\n",
              "      background-color: #3B4455;\n",
              "      fill: #D2E3FC;\n",
              "    }\n",
              "\n",
              "    [theme=dark] .colab-df-convert:hover {\n",
              "      background-color: #434B5C;\n",
              "      box-shadow: 0px 1px 3px 1px rgba(0, 0, 0, 0.15);\n",
              "      filter: drop-shadow(0px 1px 2px rgba(0, 0, 0, 0.3));\n",
              "      fill: #FFFFFF;\n",
              "    }\n",
              "  </style>\n",
              "\n",
              "      <script>\n",
              "        const buttonEl =\n",
              "          document.querySelector('#df-deb0d05e-4fcd-4fed-b98a-4e95d20843ce button.colab-df-convert');\n",
              "        buttonEl.style.display =\n",
              "          google.colab.kernel.accessAllowed ? 'block' : 'none';\n",
              "\n",
              "        async function convertToInteractive(key) {\n",
              "          const element = document.querySelector('#df-deb0d05e-4fcd-4fed-b98a-4e95d20843ce');\n",
              "          const dataTable =\n",
              "            await google.colab.kernel.invokeFunction('convertToInteractive',\n",
              "                                                     [key], {});\n",
              "          if (!dataTable) return;\n",
              "\n",
              "          const docLinkHtml = 'Like what you see? Visit the ' +\n",
              "            '<a target=\"_blank\" href=https://colab.research.google.com/notebooks/data_table.ipynb>data table notebook</a>'\n",
              "            + ' to learn more about interactive tables.';\n",
              "          element.innerHTML = '';\n",
              "          dataTable['output_type'] = 'display_data';\n",
              "          await google.colab.output.renderOutput(dataTable, element);\n",
              "          const docLink = document.createElement('div');\n",
              "          docLink.innerHTML = docLinkHtml;\n",
              "          element.appendChild(docLink);\n",
              "        }\n",
              "      </script>\n",
              "    </div>\n",
              "  </div>\n",
              "  "
            ]
          },
          "metadata": {},
          "execution_count": 5
        }
      ],
      "source": [
        "df.head()"
      ]
    },
    {
      "cell_type": "code",
      "execution_count": 6,
      "metadata": {
        "id": "y1wvPVpQGp9B"
      },
      "outputs": [],
      "source": [
        "df.drop('Unnamed: 0', axis=1, inplace=True)"
      ]
    },
    {
      "cell_type": "code",
      "execution_count": 7,
      "metadata": {
        "colab": {
          "base_uri": "https://localhost:8080/"
        },
        "id": "PLHC6yMiGqEp",
        "outputId": "3ddad49b-50c9-4124-8b3c-07b09d927c3e"
      },
      "outputs": [
        {
          "output_type": "execute_result",
          "data": {
            "text/plain": [
              "Index(['category', 'rating', 'label', 'text_'], dtype='object')"
            ]
          },
          "metadata": {},
          "execution_count": 7
        }
      ],
      "source": [
        "df.columns"
      ]
    },
    {
      "cell_type": "code",
      "execution_count": 8,
      "metadata": {
        "colab": {
          "base_uri": "https://localhost:8080/"
        },
        "id": "VjPDT6esGqL0",
        "outputId": "336653d2-3d62-49b1-d135-45aebe0e482a"
      },
      "outputs": [
        {
          "output_type": "execute_result",
          "data": {
            "text/plain": [
              "1"
            ]
          },
          "metadata": {},
          "execution_count": 8
        }
      ],
      "source": [
        "df.isnull().sum().sum() #counts all null values"
      ]
    },
    {
      "cell_type": "code",
      "execution_count": 9,
      "metadata": {
        "colab": {
          "base_uri": "https://localhost:8080/"
        },
        "id": "7JxbX9GiQw99",
        "outputId": "9ece9613-ac1e-49da-ae26-ac76d06849c9"
      },
      "outputs": [
        {
          "output_type": "execute_result",
          "data": {
            "text/plain": [
              "category    0\n",
              "rating      0\n",
              "label       0\n",
              "text_       1\n",
              "dtype: int64"
            ]
          },
          "metadata": {},
          "execution_count": 9
        }
      ],
      "source": [
        "df.isnull().sum()     # gives count of null values in all columns"
      ]
    },
    {
      "cell_type": "code",
      "execution_count": 10,
      "metadata": {
        "colab": {
          "base_uri": "https://localhost:8080/"
        },
        "id": "O3C1fvm1GqSz",
        "outputId": "bfe44712-eecf-4c20-873d-44ee90960ccb"
      },
      "outputs": [
        {
          "output_type": "execute_result",
          "data": {
            "text/plain": [
              "category    40432\n",
              "rating      40432\n",
              "label       40432\n",
              "text_       40431\n",
              "dtype: int64"
            ]
          },
          "metadata": {},
          "execution_count": 10
        }
      ],
      "source": [
        "df.count()"
      ]
    },
    {
      "cell_type": "code",
      "execution_count": 11,
      "metadata": {
        "id": "1285Im5lGqZh"
      },
      "outputs": [],
      "source": [
        "df.dropna(inplace=True)  # removes all rows with null values and inplace helps retain change in original dataset"
      ]
    },
    {
      "cell_type": "code",
      "execution_count": 12,
      "metadata": {
        "id": "Rtg2A0lFGqe4"
      },
      "outputs": [],
      "source": [
        "df['length'] = df['text_'].apply(len)          # counts length of values in column 'text_' and stores that in seperate column 'length'"
      ]
    },
    {
      "cell_type": "code",
      "execution_count": 13,
      "metadata": {
        "colab": {
          "base_uri": "https://localhost:8080/"
        },
        "id": "R-WbGs-5GqkQ",
        "outputId": "64dd0eb0-7c3d-4a19-cced-9ca88ab4e0aa"
      },
      "outputs": [
        {
          "output_type": "stream",
          "name": "stdout",
          "text": [
            "<class 'pandas.core.frame.DataFrame'>\n",
            "Int64Index: 40431 entries, 0 to 40431\n",
            "Data columns (total 5 columns):\n",
            " #   Column    Non-Null Count  Dtype  \n",
            "---  ------    --------------  -----  \n",
            " 0   category  40431 non-null  object \n",
            " 1   rating    40431 non-null  float64\n",
            " 2   label     40431 non-null  object \n",
            " 3   text_     40431 non-null  object \n",
            " 4   length    40431 non-null  int64  \n",
            "dtypes: float64(1), int64(1), object(3)\n",
            "memory usage: 1.9+ MB\n"
          ]
        }
      ],
      "source": [
        "df.info()"
      ]
    },
    {
      "cell_type": "code",
      "execution_count": 14,
      "metadata": {
        "colab": {
          "base_uri": "https://localhost:8080/",
          "height": 300
        },
        "id": "WmlZkp1tGqpk",
        "outputId": "875a15b4-13ce-4577-fe39-af7dd7916ac7"
      },
      "outputs": [
        {
          "output_type": "execute_result",
          "data": {
            "text/plain": [
              "             rating        length\n",
              "count  40431.000000  40431.000000\n",
              "mean       4.256585    192.154040\n",
              "std        1.144367    207.463498\n",
              "min        1.000000      8.000000\n",
              "25%        4.000000     59.000000\n",
              "50%        5.000000    108.000000\n",
              "75%        5.000000    236.000000\n",
              "max        5.000000   2199.000000"
            ],
            "text/html": [
              "\n",
              "  <div id=\"df-cd496aa3-4c2c-425b-8700-027b8fcc8958\">\n",
              "    <div class=\"colab-df-container\">\n",
              "      <div>\n",
              "<style scoped>\n",
              "    .dataframe tbody tr th:only-of-type {\n",
              "        vertical-align: middle;\n",
              "    }\n",
              "\n",
              "    .dataframe tbody tr th {\n",
              "        vertical-align: top;\n",
              "    }\n",
              "\n",
              "    .dataframe thead th {\n",
              "        text-align: right;\n",
              "    }\n",
              "</style>\n",
              "<table border=\"1\" class=\"dataframe\">\n",
              "  <thead>\n",
              "    <tr style=\"text-align: right;\">\n",
              "      <th></th>\n",
              "      <th>rating</th>\n",
              "      <th>length</th>\n",
              "    </tr>\n",
              "  </thead>\n",
              "  <tbody>\n",
              "    <tr>\n",
              "      <th>count</th>\n",
              "      <td>40431.000000</td>\n",
              "      <td>40431.000000</td>\n",
              "    </tr>\n",
              "    <tr>\n",
              "      <th>mean</th>\n",
              "      <td>4.256585</td>\n",
              "      <td>192.154040</td>\n",
              "    </tr>\n",
              "    <tr>\n",
              "      <th>std</th>\n",
              "      <td>1.144367</td>\n",
              "      <td>207.463498</td>\n",
              "    </tr>\n",
              "    <tr>\n",
              "      <th>min</th>\n",
              "      <td>1.000000</td>\n",
              "      <td>8.000000</td>\n",
              "    </tr>\n",
              "    <tr>\n",
              "      <th>25%</th>\n",
              "      <td>4.000000</td>\n",
              "      <td>59.000000</td>\n",
              "    </tr>\n",
              "    <tr>\n",
              "      <th>50%</th>\n",
              "      <td>5.000000</td>\n",
              "      <td>108.000000</td>\n",
              "    </tr>\n",
              "    <tr>\n",
              "      <th>75%</th>\n",
              "      <td>5.000000</td>\n",
              "      <td>236.000000</td>\n",
              "    </tr>\n",
              "    <tr>\n",
              "      <th>max</th>\n",
              "      <td>5.000000</td>\n",
              "      <td>2199.000000</td>\n",
              "    </tr>\n",
              "  </tbody>\n",
              "</table>\n",
              "</div>\n",
              "      <button class=\"colab-df-convert\" onclick=\"convertToInteractive('df-cd496aa3-4c2c-425b-8700-027b8fcc8958')\"\n",
              "              title=\"Convert this dataframe to an interactive table.\"\n",
              "              style=\"display:none;\">\n",
              "        \n",
              "  <svg xmlns=\"http://www.w3.org/2000/svg\" height=\"24px\"viewBox=\"0 0 24 24\"\n",
              "       width=\"24px\">\n",
              "    <path d=\"M0 0h24v24H0V0z\" fill=\"none\"/>\n",
              "    <path d=\"M18.56 5.44l.94 2.06.94-2.06 2.06-.94-2.06-.94-.94-2.06-.94 2.06-2.06.94zm-11 1L8.5 8.5l.94-2.06 2.06-.94-2.06-.94L8.5 2.5l-.94 2.06-2.06.94zm10 10l.94 2.06.94-2.06 2.06-.94-2.06-.94-.94-2.06-.94 2.06-2.06.94z\"/><path d=\"M17.41 7.96l-1.37-1.37c-.4-.4-.92-.59-1.43-.59-.52 0-1.04.2-1.43.59L10.3 9.45l-7.72 7.72c-.78.78-.78 2.05 0 2.83L4 21.41c.39.39.9.59 1.41.59.51 0 1.02-.2 1.41-.59l7.78-7.78 2.81-2.81c.8-.78.8-2.07 0-2.86zM5.41 20L4 18.59l7.72-7.72 1.47 1.35L5.41 20z\"/>\n",
              "  </svg>\n",
              "      </button>\n",
              "      \n",
              "  <style>\n",
              "    .colab-df-container {\n",
              "      display:flex;\n",
              "      flex-wrap:wrap;\n",
              "      gap: 12px;\n",
              "    }\n",
              "\n",
              "    .colab-df-convert {\n",
              "      background-color: #E8F0FE;\n",
              "      border: none;\n",
              "      border-radius: 50%;\n",
              "      cursor: pointer;\n",
              "      display: none;\n",
              "      fill: #1967D2;\n",
              "      height: 32px;\n",
              "      padding: 0 0 0 0;\n",
              "      width: 32px;\n",
              "    }\n",
              "\n",
              "    .colab-df-convert:hover {\n",
              "      background-color: #E2EBFA;\n",
              "      box-shadow: 0px 1px 2px rgba(60, 64, 67, 0.3), 0px 1px 3px 1px rgba(60, 64, 67, 0.15);\n",
              "      fill: #174EA6;\n",
              "    }\n",
              "\n",
              "    [theme=dark] .colab-df-convert {\n",
              "      background-color: #3B4455;\n",
              "      fill: #D2E3FC;\n",
              "    }\n",
              "\n",
              "    [theme=dark] .colab-df-convert:hover {\n",
              "      background-color: #434B5C;\n",
              "      box-shadow: 0px 1px 3px 1px rgba(0, 0, 0, 0.15);\n",
              "      filter: drop-shadow(0px 1px 2px rgba(0, 0, 0, 0.3));\n",
              "      fill: #FFFFFF;\n",
              "    }\n",
              "  </style>\n",
              "\n",
              "      <script>\n",
              "        const buttonEl =\n",
              "          document.querySelector('#df-cd496aa3-4c2c-425b-8700-027b8fcc8958 button.colab-df-convert');\n",
              "        buttonEl.style.display =\n",
              "          google.colab.kernel.accessAllowed ? 'block' : 'none';\n",
              "\n",
              "        async function convertToInteractive(key) {\n",
              "          const element = document.querySelector('#df-cd496aa3-4c2c-425b-8700-027b8fcc8958');\n",
              "          const dataTable =\n",
              "            await google.colab.kernel.invokeFunction('convertToInteractive',\n",
              "                                                     [key], {});\n",
              "          if (!dataTable) return;\n",
              "\n",
              "          const docLinkHtml = 'Like what you see? Visit the ' +\n",
              "            '<a target=\"_blank\" href=https://colab.research.google.com/notebooks/data_table.ipynb>data table notebook</a>'\n",
              "            + ' to learn more about interactive tables.';\n",
              "          element.innerHTML = '';\n",
              "          dataTable['output_type'] = 'display_data';\n",
              "          await google.colab.output.renderOutput(dataTable, element);\n",
              "          const docLink = document.createElement('div');\n",
              "          docLink.innerHTML = docLinkHtml;\n",
              "          element.appendChild(docLink);\n",
              "        }\n",
              "      </script>\n",
              "    </div>\n",
              "  </div>\n",
              "  "
            ]
          },
          "metadata": {},
          "execution_count": 14
        }
      ],
      "source": [
        "df.describe()"
      ]
    },
    {
      "cell_type": "code",
      "execution_count": 15,
      "metadata": {
        "colab": {
          "base_uri": "https://localhost:8080/",
          "height": 352
        },
        "id": "d7FIuyACGqu4",
        "outputId": "a05b2a10-12f4-431c-87bf-f59f1bc9b6a9"
      },
      "outputs": [
        {
          "output_type": "execute_result",
          "data": {
            "text/plain": [
              "(array([2.9966e+04, 5.8300e+03, 2.7200e+03, 1.2250e+03, 5.4400e+02,\n",
              "        1.2400e+02, 1.3000e+01, 4.0000e+00, 1.0000e+00, 4.0000e+00]),\n",
              " array([   8. ,  227.1,  446.2,  665.3,  884.4, 1103.5, 1322.6, 1541.7,\n",
              "        1760.8, 1979.9, 2199. ]),\n",
              " <a list of 10 Patch objects>)"
            ]
          },
          "metadata": {},
          "execution_count": 15
        },
        {
          "output_type": "display_data",
          "data": {
            "text/plain": [
              "<Figure size 432x288 with 1 Axes>"
            ],
            "image/png": "[encoded data removed]"
          },
          "metadata": {
            "needs_background": "light"
          }
        }
      ],
      "source": [
        "plt.hist(df['length'])"
      ]
    },
    {
      "cell_type": "code",
      "execution_count": 16,
      "metadata": {
        "colab": {
          "base_uri": "https://localhost:8080/",
          "height": 175
        },
        "id": "AiiAAyy2Gq0i",
        "outputId": "6f907ce2-dc96-4a42-b003-9433e038b865"
      },
      "outputs": [
        {
          "output_type": "execute_result",
          "data": {
            "text/plain": [
              "        rating                                                length  \\\n",
              "         count      mean       std  min  25%  50%  75%  max    count   \n",
              "label                                                                  \n",
              "CG     20215.0  4.259906  1.141092  1.0  4.0  5.0  5.0  5.0  20215.0   \n",
              "OR     20216.0  4.253265  1.147652  1.0  4.0  5.0  5.0  5.0  20216.0   \n",
              "\n",
              "                                                                 \n",
              "             mean         std   min   25%    50%    75%     max  \n",
              "label                                                            \n",
              "CG     159.269701  160.493040  11.0  52.0   91.0  197.0  1198.0  \n",
              "OR     225.036753  241.169564   8.0  69.0  126.0  278.0  2199.0  "
            ],
            "text/html": [
              "\n",
              "  <div id=\"df-64284f6e-4ddb-4d53-97f1-2dd990683b9e\">\n",
              "    <div class=\"colab-df-container\">\n",
              "      <div>\n",
              "<style scoped>\n",
              "    .dataframe tbody tr th:only-of-type {\n",
              "        vertical-align: middle;\n",
              "    }\n",
              "\n",
              "    .dataframe tbody tr th {\n",
              "        vertical-align: top;\n",
              "    }\n",
              "\n",
              "    .dataframe thead tr th {\n",
              "        text-align: left;\n",
              "    }\n",
              "\n",
              "    .dataframe thead tr:last-of-type th {\n",
              "        text-align: right;\n",
              "    }\n",
              "</style>\n",
              "<table border=\"1\" class=\"dataframe\">\n",
              "  <thead>\n",
              "    <tr>\n",
              "      <th></th>\n",
              "      <th colspan=\"8\" halign=\"left\">rating</th>\n",
              "      <th colspan=\"8\" halign=\"left\">length</th>\n",
              "    </tr>\n",
              "    <tr>\n",
              "      <th></th>\n",
              "      <th>count</th>\n",
              "      <th>mean</th>\n",
              "      <th>std</th>\n",
              "      <th>min</th>\n",
              "      <th>25%</th>\n",
              "      <th>50%</th>\n",
              "      <th>75%</th>\n",
              "      <th>max</th>\n",
              "      <th>count</th>\n",
              "      <th>mean</th>\n",
              "      <th>std</th>\n",
              "      <th>min</th>\n",
              "      <th>25%</th>\n",
              "      <th>50%</th>\n",
              "      <th>75%</th>\n",
              "      <th>max</th>\n",
              "    </tr>\n",
              "    <tr>\n",
              "      <th>label</th>\n",
              "      <th></th>\n",
              "      <th></th>\n",
              "      <th></th>\n",
              "      <th></th>\n",
              "      <th></th>\n",
              "      <th></th>\n",
              "      <th></th>\n",
              "      <th></th>\n",
              "      <th></th>\n",
              "      <th></th>\n",
              "      <th></th>\n",
              "      <th></th>\n",
              "      <th></th>\n",
              "      <th></th>\n",
              "      <th></th>\n",
              "      <th></th>\n",
              "    </tr>\n",
              "  </thead>\n",
              "  <tbody>\n",
              "    <tr>\n",
              "      <th>CG</th>\n",
              "      <td>20215.0</td>\n",
              "      <td>4.259906</td>\n",
              "      <td>1.141092</td>\n",
              "      <td>1.0</td>\n",
              "      <td>4.0</td>\n",
              "      <td>5.0</td>\n",
              "      <td>5.0</td>\n",
              "      <td>5.0</td>\n",
              "      <td>20215.0</td>\n",
              "      <td>159.269701</td>\n",
              "      <td>160.493040</td>\n",
              "      <td>11.0</td>\n",
              "      <td>52.0</td>\n",
              "      <td>91.0</td>\n",
              "      <td>197.0</td>\n",
              "      <td>1198.0</td>\n",
              "    </tr>\n",
              "    <tr>\n",
              "      <th>OR</th>\n",
              "      <td>20216.0</td>\n",
              "      <td>4.253265</td>\n",
              "      <td>1.147652</td>\n",
              "      <td>1.0</td>\n",
              "      <td>4.0</td>\n",
              "      <td>5.0</td>\n",
              "      <td>5.0</td>\n",
              "      <td>5.0</td>\n",
              "      <td>20216.0</td>\n",
              "      <td>225.036753</td>\n",
              "      <td>241.169564</td>\n",
              "      <td>8.0</td>\n",
              "      <td>69.0</td>\n",
              "      <td>126.0</td>\n",
              "      <td>278.0</td>\n",
              "      <td>2199.0</td>\n",
              "    </tr>\n",
              "  </tbody>\n",
              "</table>\n",
              "</div>\n",
              "      <button class=\"colab-df-convert\" onclick=\"convertToInteractive('df-64284f6e-4ddb-4d53-97f1-2dd990683b9e')\"\n",
              "              title=\"Convert this dataframe to an interactive table.\"\n",
              "              style=\"display:none;\">\n",
              "        \n",
              "  <svg xmlns=\"http://www.w3.org/2000/svg\" height=\"24px\"viewBox=\"0 0 24 24\"\n",
              "       width=\"24px\">\n",
              "    <path d=\"M0 0h24v24H0V0z\" fill=\"none\"/>\n",
              "    <path d=\"M18.56 5.44l.94 2.06.94-2.06 2.06-.94-2.06-.94-.94-2.06-.94 2.06-2.06.94zm-11 1L8.5 8.5l.94-2.06 2.06-.94-2.06-.94L8.5 2.5l-.94 2.06-2.06.94zm10 10l.94 2.06.94-2.06 2.06-.94-2.06-.94-.94-2.06-.94 2.06-2.06.94z\"/><path d=\"M17.41 7.96l-1.37-1.37c-.4-.4-.92-.59-1.43-.59-.52 0-1.04.2-1.43.59L10.3 9.45l-7.72 7.72c-.78.78-.78 2.05 0 2.83L4 21.41c.39.39.9.59 1.41.59.51 0 1.02-.2 1.41-.59l7.78-7.78 2.81-2.81c.8-.78.8-2.07 0-2.86zM5.41 20L4 18.59l7.72-7.72 1.47 1.35L5.41 20z\"/>\n",
              "  </svg>\n",
              "      </button>\n",
              "      \n",
              "  <style>\n",
              "    .colab-df-container {\n",
              "      display:flex;\n",
              "      flex-wrap:wrap;\n",
              "      gap: 12px;\n",
              "    }\n",
              "\n",
              "    .colab-df-convert {\n",
              "      background-color: #E8F0FE;\n",
              "      border: none;\n",
              "      border-radius: 50%;\n",
              "      cursor: pointer;\n",
              "      display: none;\n",
              "      fill: #1967D2;\n",
              "      height: 32px;\n",
              "      padding: 0 0 0 0;\n",
              "      width: 32px;\n",
              "    }\n",
              "\n",
              "    .colab-df-convert:hover {\n",
              "      background-color: #E2EBFA;\n",
              "      box-shadow: 0px 1px 2px rgba(60, 64, 67, 0.3), 0px 1px 3px 1px rgba(60, 64, 67, 0.15);\n",
              "      fill: #174EA6;\n",
              "    }\n",
              "\n",
              "    [theme=dark] .colab-df-convert {\n",
              "      background-color: #3B4455;\n",
              "      fill: #D2E3FC;\n",
              "    }\n",
              "\n",
              "    [theme=dark] .colab-df-convert:hover {\n",
              "      background-color: #434B5C;\n",
              "      box-shadow: 0px 1px 3px 1px rgba(0, 0, 0, 0.15);\n",
              "      filter: drop-shadow(0px 1px 2px rgba(0, 0, 0, 0.3));\n",
              "      fill: #FFFFFF;\n",
              "    }\n",
              "  </style>\n",
              "\n",
              "      <script>\n",
              "        const buttonEl =\n",
              "          document.querySelector('#df-64284f6e-4ddb-4d53-97f1-2dd990683b9e button.colab-df-convert');\n",
              "        buttonEl.style.display =\n",
              "          google.colab.kernel.accessAllowed ? 'block' : 'none';\n",
              "\n",
              "        async function convertToInteractive(key) {\n",
              "          const element = document.querySelector('#df-64284f6e-4ddb-4d53-97f1-2dd990683b9e');\n",
              "          const dataTable =\n",
              "            await google.colab.kernel.invokeFunction('convertToInteractive',\n",
              "                                                     [key], {});\n",
              "          if (!dataTable) return;\n",
              "\n",
              "          const docLinkHtml = 'Like what you see? Visit the ' +\n",
              "            '<a target=\"_blank\" href=https://colab.research.google.com/notebooks/data_table.ipynb>data table notebook</a>'\n",
              "            + ' to learn more about interactive tables.';\n",
              "          element.innerHTML = '';\n",
              "          dataTable['output_type'] = 'display_data';\n",
              "          await google.colab.output.renderOutput(dataTable, element);\n",
              "          const docLink = document.createElement('div');\n",
              "          docLink.innerHTML = docLinkHtml;\n",
              "          element.appendChild(docLink);\n",
              "        }\n",
              "      </script>\n",
              "    </div>\n",
              "  </div>\n",
              "  "
            ]
          },
          "metadata": {},
          "execution_count": 16
        }
      ],
      "source": [
        "df.groupby('label').describe()   # creating groups as per values in label column"
      ]
    },
    {
      "cell_type": "code",
      "execution_count": 17,
      "metadata": {
        "colab": {
          "base_uri": "https://localhost:8080/",
          "height": 349
        },
        "id": "qFWwp3PqGq6b",
        "outputId": "b166180f-bad3-4cc4-c420-79ac92881ee7"
      },
      "outputs": [
        {
          "output_type": "display_data",
          "data": {
            "text/plain": [
              "<Figure size 864x360 with 2 Axes>"
            ],
            "image/png": "[encoded data removed]"
          },
          "metadata": {
            "needs_background": "light"
          }
        }
      ],
      "source": [
        "# plotting the length of reviews w.r.t each label\n",
        "df['length'].hist(by=df['label'], color='blue', figsize=(12,5))\n",
        "plt.show()"
      ]
    },
    {
      "cell_type": "markdown",
      "metadata": {
        "id": "fmnFD3V7Gq_o"
      },
      "source": [
        "Extracting largest review"
      ]
    },
    {
      "cell_type": "code",
      "execution_count": 18,
      "metadata": {
        "colab": {
          "base_uri": "https://localhost:8080/"
        },
        "id": "5EmwIIT-GrEw",
        "outputId": "4fada9d1-6a3f-45b6-9b1e-301073b8ed75"
      },
      "outputs": [
        {
          "output_type": "execute_result",
          "data": {
            "text/plain": [
              "count    40431.000000\n",
              "mean       192.154040\n",
              "std        207.463498\n",
              "min          8.000000\n",
              "25%         59.000000\n",
              "50%        108.000000\n",
              "75%        236.000000\n",
              "max       2199.000000\n",
              "Name: length, dtype: float64"
            ]
          },
          "metadata": {},
          "execution_count": 18
        }
      ],
      "source": [
        "df.length.describe()"
      ]
    },
    {
      "cell_type": "code",
      "execution_count": 19,
      "metadata": {
        "colab": {
          "base_uri": "https://localhost:8080/",
          "height": 140
        },
        "id": "OmrRDe0nfMeI",
        "outputId": "9ef3e364-3628-42b1-a6cd-7dfbadc9c150"
      },
      "outputs": [
        {
          "output_type": "execute_result",
          "data": {
            "text/plain": [
              "\"thought 'd purcha item also nbsp data-hook= `` product-link-link `` class= `` a-link-norm `` href= `` /kidco-door-knob-locks-clear-2-pack/dp/b0010cd2io/ref=cm_cr_arp_d_rvw_txt ie=utf8 `` kidco door knob lock clear 2 pack /a nbsp nbsp data-hook= `` product-link-link `` class= `` a-link-norm `` href= `` /door-knob-lock/dp/b00238meqa/ref=cm_cr_arp_d_rvw_txt ie=utf8 `` door knob lock /a white color nbsp data-hook= `` product-link-link `` class= `` a-link-norm `` href= `` /kidco-door-knob-lock-colors-white/dp/b001j2wjf2/ref=cm_cr_arp_d_rvw_txt ie=utf8 `` kidco door knob lock color white /a nbsp nbsp data-hook= `` product-link-link `` class= `` a-link-norm `` href= `` /door-knob-lock-2-pack/dp/b00069bvgm/ref=cm_cr_arp_d_rvw_txt ie=utf8 `` door knob lock 2 pack /a nbsp data-hook= `` product-link-link `` class= `` a-link-norm `` href= `` /secure-grip-clear-door-knob-covers-3-pack/dp/b00068xbxe/ref=cm_cr_arp_d_rvw_txt ie=utf8 `` secur grip clear door knob cover 3-pack /a nbsp compar two over function well although coupl disadvantag overcom `` hack . `` advantag 's easi put two halv togeth match tab slot hing cover lock unlik safeti 1st open assembl gener prevent child turn doorknob allow adult simultan press two `` lever `` side twist disadvantag 1 child might abl separ two halv although item resist breakag safeti 1st cover `` hack `` 1 use strong glue like nbsp data-hook= `` product-link-link `` class= `` a-link-norm `` href= `` /henkel-01-82196-loctite-2-gram-super-glue-gel/dp/b000albzgc/ref=cm_cr_arp_d_rvw_txt ie=utf8 `` henkel 01-82196 loctit 2-gram super glue gel /a tab keep cover intact much glue wo n't abl remov cover later disadvantag 2 certain doorknob rubber-lik pad insid cover might grip knob tightli child abl open door moder effort `` hack `` 2 appli small amount silicon lubric like nbsp data-hook= `` product-link-link `` class= `` a-link-norm `` href= `` /10141wd-11oz-3-in-1-pro-lubricant-silicone-spray-aerosol-can-ship-ground-only-orm-d/dp/b000bbycuc/ref=cm_cr_arp_d_rvw_txt ie=utf8 `` 10141wd 11oz 3-in-1 pro lubric silicon spray aerosol ship ground orm-d /a pad insid furthermor sinc pad thick side use swiss armi knife pare knife make pad thinner buy amazon\""
            ],
            "application/vnd.google.colaboratory.intrinsic+json": {
              "type": "string"
            }
          },
          "metadata": {},
          "execution_count": 19
        }
      ],
      "source": [
        "df[df['label']=='OR'][['text_','length']].sort_values(by='length',ascending=False).head().iloc[0].text_"
      ]
    },
    {
      "cell_type": "code",
      "execution_count": 20,
      "metadata": {
        "colab": {
          "base_uri": "https://localhost:8080/",
          "height": 35
        },
        "id": "_fkJc4mOeio1",
        "outputId": "7844d1d4-fd20-48f1-c9fb-3d95159b7f7c"
      },
      "outputs": [
        {
          "output_type": "execute_result",
          "data": {
            "text/plain": [
              "'good qualiti great price tad loo 15 `` mattress'"
            ],
            "application/vnd.google.colaboratory.intrinsic+json": {
              "type": "string"
            }
          },
          "metadata": {},
          "execution_count": 20
        }
      ],
      "source": [
        "df['text_'][300]"
      ]
    },
    {
      "cell_type": "code",
      "execution_count": 21,
      "metadata": {
        "colab": {
          "base_uri": "https://localhost:8080/"
        },
        "id": "gmz7qA6KGrKJ",
        "outputId": "1c4a3981-81ac-4c81-b235-78426f4d8c05"
      },
      "outputs": [
        {
          "output_type": "execute_result",
          "data": {
            "text/plain": [
              "CountVectorizer()"
            ]
          },
          "metadata": {},
          "execution_count": 21
        }
      ],
      "source": [
        "bow_transformer = CountVectorizer()\n",
        "bow_transformer"
      ]
    },
    {
      "cell_type": "code",
      "source": [
        "bow_transformer.fit(df['text_'])"
      ],
      "metadata": {
        "colab": {
          "base_uri": "https://localhost:8080/"
        },
        "id": "lBqWrb0sO9Kr",
        "outputId": "244ab70d-f05a-453b-a782-037eeb074781"
      },
      "execution_count": 22,
      "outputs": [
        {
          "output_type": "execute_result",
          "data": {
            "text/plain": [
              "CountVectorizer()"
            ]
          },
          "metadata": {},
          "execution_count": 22
        }
      ]
    },
    {
      "cell_type": "code",
      "source": [
        "bow_transformer.vocabulary_"
      ],
      "metadata": {
        "colab": {
          "base_uri": "https://localhost:8080/"
        },
        "id": "2YKdVByBPZh8",
        "outputId": "25d966e1-cdbf-4ecf-ce98-e26b80b21e18"
      },
      "execution_count": 23,
      "outputs": [
        {
          "output_type": "execute_result",
          "data": {
            "text/plain": [
              "{'love': 16126,\n",
              " 'well': 28702,\n",
              " 'made': 16367,\n",
              " 'sturdi': 25377,\n",
              " 'comfort': 6517,\n",
              " 'pretti': 20665,\n",
              " 'great': 12080,\n",
              " 'upgrad': 27822,\n",
              " 'origin': 18975,\n",
              " 've': 28024,\n",
              " 'mine': 17267,\n",
              " 'coupl': 7026,\n",
              " 'year': 29447,\n",
              " 'pillow': 20023,\n",
              " 'save': 22953,\n",
              " 'back': 3393,\n",
              " 'look': 16046,\n",
              " 'feel': 10370,\n",
              " 'miss': 17384,\n",
              " 'inform': 13906,\n",
              " 'use': 27883,\n",
              " 'product': 20790,\n",
              " 'price': 20686,\n",
              " 'nice': 18282,\n",
              " 'set': 23448,\n",
              " 'good': 11885,\n",
              " 'qualiti': 21159,\n",
              " 'two': 27279,\n",
              " 'month': 17606,\n",
              " 'want': 28480,\n",
              " 'differ': 8257,\n",
              " 'flavor': 10696,\n",
              " 'perfect': 19752,\n",
              " 'touch': 26803,\n",
              " 'thing': 26386,\n",
              " 'wish': 29037,\n",
              " 'littl': 15920,\n",
              " 'space': 24587,\n",
              " 'done': 8674,\n",
              " 'fit': 10628,\n",
              " 'smooth': 24262,\n",
              " 'edg': 9224,\n",
              " 'extra': 10061,\n",
              " 'big': 4053,\n",
              " 'number': 18589,\n",
              " 'easi': 9154,\n",
              " 'read': 21540,\n",
              " 'like': 15803,\n",
              " 'size': 23995,\n",
              " 'son': 24479,\n",
              " 'also': 2250,\n",
              " 'babi': 3382,\n",
              " 'adverti': 1903,\n",
              " '5th': 1184,\n",
              " 'one': 18844,\n",
              " 'problem': 20763,\n",
              " 'realli': 21568,\n",
              " 'handi': 12494,\n",
              " 'kid': 14977,\n",
              " 'tool': 26721,\n",
              " 'includ': 13773,\n",
              " 'packag': 19282,\n",
              " 'someon': 24465,\n",
              " 'say': 22972,\n",
              " 'orient': 18972,\n",
              " '60': 1196,\n",
              " 'flimsi': 10740,\n",
              " 'would': 29223,\n",
              " 'expect': 9993,\n",
              " 'piec': 19997,\n",
              " 'furnitur': 11297,\n",
              " 'make': 16454,\n",
              " 'may': 16793,\n",
              " 'tea': 26067,\n",
              " 'stir': 25158,\n",
              " 'kind': 15023,\n",
              " 'hard': 12576,\n",
              " 'put': 21090,\n",
              " 'absolut': 1681,\n",
              " 'ador': 1868,\n",
              " 'excel': 9934,\n",
              " 'wooden': 29132,\n",
              " 'entir': 9623,\n",
              " 'famili': 10212,\n",
              " 'beauti': 3786,\n",
              " 'mesh': 17065,\n",
              " 'exactli': 9922,\n",
              " '10': 52,\n",
              " 'star': 24994,\n",
              " 'highli': 13006,\n",
              " 'recommend': 21670,\n",
              " 'item': 14293,\n",
              " 'blanket': 4200,\n",
              " 'egg': 9282,\n",
              " 'masher': 16698,\n",
              " 'color': 6470,\n",
              " 'dimen': 8304,\n",
              " 'pictur': 19988,\n",
              " 'fantast': 10235,\n",
              " 'suppo': 25610,\n",
              " 'come': 6506,\n",
              " 'hardwar': 12595,\n",
              " 'vacuum': 27950,\n",
              " 'seem': 23302,\n",
              " 'way': 28590,\n",
              " 'smoothi': 24265,\n",
              " 'small': 24211,\n",
              " 'person': 19808,\n",
              " 'accustom': 1747,\n",
              " 'reason': 21589,\n",
              " 'gave': 11488,\n",
              " 'seller': 23339,\n",
              " 'ye': 29441,\n",
              " 'thin': 26385,\n",
              " 'plastic': 20136,\n",
              " 'howev': 13348,\n",
              " 'handl': 12502,\n",
              " 'bought': 4548,\n",
              " 'second': 23266,\n",
              " 'first': 10611,\n",
              " 'sure': 25626,\n",
              " 'wonder': 29116,\n",
              " 'aroma': 2773,\n",
              " 'throughout': 26470,\n",
              " 'hou': 13321,\n",
              " 'receiv': 21628,\n",
              " 'time': 26571,\n",
              " 'flat': 10685,\n",
              " 'husband': 13466,\n",
              " 'okay': 18782,\n",
              " 'got': 11945,\n",
              " 'local': 15976,\n",
              " 'store': 25199,\n",
              " 'away': 3135,\n",
              " 'thought': 26436,\n",
              " 'addit': 1827,\n",
              " 'kitchen': 15071,\n",
              " 'fine': 10551,\n",
              " 'option': 18918,\n",
              " 'separ': 23391,\n",
              " 'awesom': 3139,\n",
              " 'materi': 16738,\n",
              " 'decent': 7794,\n",
              " 'heavi': 12818,\n",
              " 'everyday': 9886,\n",
              " 'work': 29168,\n",
              " 'part': 19480,\n",
              " 'cup': 7368,\n",
              " 'go': 11811,\n",
              " 'old': 18790,\n",
              " 'suction': 25473,\n",
              " 'remov': 21924,\n",
              " 'design': 8084,\n",
              " 'place': 20105,\n",
              " 'aw': 3126,\n",
              " 'experi': 10006,\n",
              " 'everyth': 9891,\n",
              " 'stuck': 25344,\n",
              " 'cook': 6835,\n",
              " 'evenli': 9868,\n",
              " 'job': 14566,\n",
              " 'keep': 14859,\n",
              " 'slide': 24132,\n",
              " 'sheet': 23600,\n",
              " 'buy': 5079,\n",
              " 'town': 26831,\n",
              " 'instead': 14031,\n",
              " 'ship': 23661,\n",
              " 'box': 4581,\n",
              " 'money': 17563,\n",
              " 'towel': 26826,\n",
              " 'real': 21556,\n",
              " 'clean': 6195,\n",
              " 'purcha': 21045,\n",
              " 'alright': 2249,\n",
              " 'disappoint': 8366,\n",
              " 'paper': 19406,\n",
              " 'corner': 6924,\n",
              " 'cabinet': 5128,\n",
              " 'sticker': 25129,\n",
              " 'fabric': 10133,\n",
              " 'thick': 26369,\n",
              " 'enough': 9589,\n",
              " 'hold': 13150,\n",
              " 'amount': 2356,\n",
              " 'coff': 6391,\n",
              " 'need': 18128,\n",
              " 'long': 16030,\n",
              " 'movi': 17757,\n",
              " 'took': 26720,\n",
              " 'finish': 10565,\n",
              " 'review': 22146,\n",
              " 'next': 18260,\n",
              " 'seal': 23231,\n",
              " 'properli': 20861,\n",
              " 'atroci': 2963,\n",
              " 'break': 4678,\n",
              " 'throw': 26474,\n",
              " 'third': 26400,\n",
              " 'dog': 8614,\n",
              " 'much': 17815,\n",
              " 'better': 4004,\n",
              " 'get': 11619,\n",
              " 'walmart': 28462,\n",
              " '50': 1086,\n",
              " 'ca': 5120,\n",
              " 'beat': 3774,\n",
              " 'cheap': 5835,\n",
              " 'intend': 14069,\n",
              " 'choic': 5999,\n",
              " 'bowl': 4577,\n",
              " 'fast': 10286,\n",
              " 'last': 15430,\n",
              " 'forev': 10959,\n",
              " 'cool': 6848,\n",
              " 'warm': 28501,\n",
              " 'bit': 4146,\n",
              " 'bigger': 4058,\n",
              " 'ccozinha': 5605,\n",
              " 'fan': 10219,\n",
              " 'actual': 1798,\n",
              " 'super': 25568,\n",
              " 'rough': 22530,\n",
              " 'soft': 24403,\n",
              " 'wash': 28529,\n",
              " 'cloth': 6292,\n",
              " 'bar': 3567,\n",
              " 'guy': 12336,\n",
              " 'often': 18760,\n",
              " 'unfold': 27564,\n",
              " 'topremov': 26755,\n",
              " 'storag': 25197,\n",
              " 'difficult': 8264,\n",
              " 'frame': 11065,\n",
              " 'craft': 7099,\n",
              " 'hot': 13304,\n",
              " 'cocoa': 6379,\n",
              " 'final': 10544,\n",
              " 'fabul': 10135,\n",
              " 'friend': 11166,\n",
              " 'low': 16148,\n",
              " 'christma': 6046,\n",
              " 'gift': 11663,\n",
              " 'accur': 1745,\n",
              " 'descript': 8074,\n",
              " 'came': 5225,\n",
              " 'happi': 12560,\n",
              " 'duvet': 9045,\n",
              " 'cover': 7053,\n",
              " 'fluffi': 10813,\n",
              " 'softest': 24409,\n",
              " 'ever': 9875,\n",
              " 'cozi': 7078,\n",
              " 'smell': 24237,\n",
              " 'mist': 17396,\n",
              " 'dri': 8858,\n",
              " 'quickli': 21200,\n",
              " 'favorit': 10323,\n",
              " 'curtain': 7399,\n",
              " 'bedroom': 3814,\n",
              " 'hang': 12526,\n",
              " 'pant': 19390,\n",
              " 'skirt': 24039,\n",
              " 'someth': 24467,\n",
              " 'larger': 15405,\n",
              " 'pricey': 20692,\n",
              " 'charg': 5784,\n",
              " 'kept': 14917,\n",
              " 'day': 7689,\n",
              " 'noth': 18516,\n",
              " 'special': 24648,\n",
              " 'instal': 14022,\n",
              " 'describ': 8072,\n",
              " 'arriv': 2789,\n",
              " 'manner': 16552,\n",
              " 'sent': 23381,\n",
              " 'brush': 4862,\n",
              " 'pencil': 19690,\n",
              " 'mascara': 16694,\n",
              " 'etc': 9807,\n",
              " 'shed': 23592,\n",
              " 'pyrex': 21118,\n",
              " 'le': 15515,\n",
              " 'open': 18886,\n",
              " 'hand': 12483,\n",
              " 'air': 2056,\n",
              " 'tight': 26549,\n",
              " 'glad': 11734,\n",
              " 'cute': 7426,\n",
              " 'zipper': 29646,\n",
              " 'send': 23358,\n",
              " 'grandkid': 12023,\n",
              " 'halloween': 12448,\n",
              " 'treat': 26966,\n",
              " 'ton': 26701,\n",
              " 'weak': 28613,\n",
              " 'bare': 3589,\n",
              " 'bring': 4774,\n",
              " 'glass': 11746,\n",
              " 'grand': 12010,\n",
              " 'daughter': 7668,\n",
              " 'connect': 6702,\n",
              " 'cctv': 5606,\n",
              " 'power': 20509,\n",
              " 'suppli': 25607,\n",
              " 'camera': 5233,\n",
              " 'definit': 7876,\n",
              " 'contemporari': 6773,\n",
              " 'assembl': 2875,\n",
              " 'appear': 2608,\n",
              " 'boyfriend': 4590,\n",
              " 'cousin': 7046,\n",
              " 'stop': 25192,\n",
              " 'still': 25144,\n",
              " 'wait': 28429,\n",
              " 'refund': 21785,\n",
              " 'dialysi': 8198,\n",
              " 'patient': 19545,\n",
              " 'poor': 20396,\n",
              " 'dd': 7718,\n",
              " 'thank': 26277,\n",
              " 'ruff': 22599,\n",
              " 'foot': 10909,\n",
              " 'chair': 5712,\n",
              " 'order': 18947,\n",
              " 'photo': 19936,\n",
              " 'wall': 28451,\n",
              " 'week': 28664,\n",
              " 'thermal': 26342,\n",
              " 'insul': 14047,\n",
              " 'help': 12873,\n",
              " 'food': 10897,\n",
              " 'warmer': 28502,\n",
              " 'wide': 28893,\n",
              " 'best': 3989,\n",
              " 'futur': 11318,\n",
              " 'conveni': 6812,\n",
              " 'turquoi': 27227,\n",
              " 'almost': 2230,\n",
              " 'neon': 18167,\n",
              " 'bright': 4756,\n",
              " 'pink': 20039,\n",
              " 'shelv': 23619,\n",
              " 'chocol': 5996,\n",
              " 'yogurt': 29493,\n",
              " 'fruit': 11217,\n",
              " 'think': 26390,\n",
              " 'more': 17647,\n",
              " 'veri': 28086,\n",
              " 'knive': 15129,\n",
              " 'ottoman': 19043,\n",
              " 'father': 10299,\n",
              " 'winter': 29016,\n",
              " 'slept': 24121,\n",
              " 'find': 10549,\n",
              " 'bed': 3806,\n",
              " 'function': 11260,\n",
              " 'leg': 15586,\n",
              " 'term': 26202,\n",
              " 'contain': 6768,\n",
              " 'bag': 3451,\n",
              " 'original': 18976,\n",
              " 'typ': 27288,\n",
              " 'solid': 24435,\n",
              " 'grill': 12139,\n",
              " 'larg': 15403,\n",
              " 'canva': 5320,\n",
              " 'tote': 26797,\n",
              " 'lightweight': 15797,\n",
              " 'light': 15780,\n",
              " 'blue': 4299,\n",
              " 'yellow': 29457,\n",
              " 'everi': 9881,\n",
              " 'shampoo': 23532,\n",
              " 'or': 18924,\n",
              " 'condit': 6655,\n",
              " 'shower': 23742,\n",
              " 'mini': 17274,\n",
              " 'full': 11248,\n",
              " 'mattress': 16765,\n",
              " 'colleg': 6452,\n",
              " 'terribl': 26215,\n",
              " 'complet': 6586,\n",
              " 'wast': 28541,\n",
              " 'whole': 28866,\n",
              " 'lot': 16097,\n",
              " 'togeth': 26660,\n",
              " 'deal': 7741,\n",
              " 'far': 10241,\n",
              " 'skinnier': 24034,\n",
              " 'quick': 21195,\n",
              " 'custom': 7419,\n",
              " 'servic': 23440,\n",
              " 'valu': 27974,\n",
              " 'oven': 19125,\n",
              " 'right': 22248,\n",
              " 'height': 12844,\n",
              " 'tri': 27002,\n",
              " 'haul': 12678,\n",
              " 'china': 5964,\n",
              " 'mother': 17702,\n",
              " 'spice': 24710,\n",
              " 'anyth': 2556,\n",
              " 'el': 9320,\n",
              " 'car': 5354,\n",
              " 'snake': 24290,\n",
              " 'oil': 18777,\n",
              " 'cushion': 7410,\n",
              " 'construct': 6753,\n",
              " 'easili': 9157,\n",
              " 'take': 25905,\n",
              " 'mysteri': 17947,\n",
              " 'meat': 16906,\n",
              " 'organ': 18959,\n",
              " 'utensil': 27908,\n",
              " 'perfectli': 19754,\n",
              " 'art': 2795,\n",
              " 'rug': 22601,\n",
              " 'wrap': 29246,\n",
              " 'longer': 16032,\n",
              " 'tube': 27153,\n",
              " 'belt': 3905,\n",
              " 'never': 18223,\n",
              " 'expen': 10000,\n",
              " 'rent': 21945,\n",
              " 'soften': 24407,\n",
              " 'goe': 11836,\n",
              " 'quilt': 21212,\n",
              " 'mug': 17832,\n",
              " 'saver': 22954,\n",
              " 'laundri': 15466,\n",
              " 'room': 22459,\n",
              " 'flexibl': 10729,\n",
              " 'lead': 15518,\n",
              " 'quit': 21226,\n",
              " 'bottom': 4543,\n",
              " 'stay': 25042,\n",
              " 'zero': 29621,\n",
              " 'eleg': 9350,\n",
              " 'improv': 13728,\n",
              " 'tast': 26021,\n",
              " 'wine': 28989,\n",
              " 'side': 23816,\n",
              " 'sleeper': 24110,\n",
              " 'mat': 16730,\n",
              " 'new': 18229,\n",
              " 'bathroom': 3684,\n",
              " 'bake': 3479,\n",
              " 'top': 26745,\n",
              " 'notch': 18511,\n",
              " 'artistri': 2816,\n",
              " 'bust': 5054,\n",
              " 'jester': 14502,\n",
              " 'studio': 25351,\n",
              " 'mani': 16532,\n",
              " 'comment': 6531,\n",
              " 'spoon': 24793,\n",
              " 'tabl': 25862,\n",
              " 'match': 16732,\n",
              " 'secondari': 23267,\n",
              " 'apart': 2571,\n",
              " 'reach': 21534,\n",
              " 'area': 2712,\n",
              " 'somewhat': 24471,\n",
              " 'hope': 13256,\n",
              " 'batteri': 3695,\n",
              " 'candl': 5282,\n",
              " 'brand': 4641,\n",
              " 'ok': 18781,\n",
              " 'firm': 10607,\n",
              " 'beyond': 4021,\n",
              " 'minim': 17283,\n",
              " 'effort': 9273,\n",
              " 'froth': 11208,\n",
              " 'smile': 24246,\n",
              " 'fleec': 10713,\n",
              " 'notic': 18521,\n",
              " 'today': 26648,\n",
              " 'bubbl': 4890,\n",
              " 'weigh': 28675,\n",
              " 'lb': 15505,\n",
              " 'oz': 19242,\n",
              " 'gram': 12000,\n",
              " 'stick': 25127,\n",
              " 'meal': 16891,\n",
              " 'pho': 19922,\n",
              " 'candi': 5277,\n",
              " 'buffet': 4925,\n",
              " 'certainli': 5676,\n",
              " 'multipurpo': 17859,\n",
              " 'ev': 9849,\n",
              " 'cord': 6886,\n",
              " 'garag': 11428,\n",
              " 'broke': 4814,\n",
              " 'tacki': 25877,\n",
              " 'shelf': 23608,\n",
              " 'spare': 24612,\n",
              " 'memori': 17003,\n",
              " 'earlier': 9130,\n",
              " 'mix': 17428,\n",
              " 'goloka': 11876,\n",
              " 'nag': 17977,\n",
              " 'champa': 5732,\n",
              " 'bride': 4731,\n",
              " 'engrav': 9569,\n",
              " 'slightli': 24138,\n",
              " 'websit': 28651,\n",
              " 'pint': 20051,\n",
              " 'pick': 19971,\n",
              " 'equip': 9694,\n",
              " 'ring': 22265,\n",
              " 'either': 9310,\n",
              " 'gone': 11878,\n",
              " 'destroy': 8104,\n",
              " 'troubl': 27088,\n",
              " 'it': 14285,\n",
              " 'high': 12998,\n",
              " 'end': 9525,\n",
              " 'calm': 5207,\n",
              " 'clock': 6272,\n",
              " 'although': 2260,\n",
              " 'flaw': 10698,\n",
              " 'solut': 24447,\n",
              " 'sort': 24537,\n",
              " 'mess': 17070,\n",
              " 'dinner': 8328,\n",
              " 'beautiou': 3789,\n",
              " 'especi': 9769,\n",
              " 'wife': 28912,\n",
              " 'pack': 19280,\n",
              " 'crockpot': 7239,\n",
              " 'varieti': 28004,\n",
              " 'hour': 13325,\n",
              " 'mirror': 17328,\n",
              " 'wreath': 29251,\n",
              " 'effici': 9271,\n",
              " 'batch': 3673,\n",
              " 'cold': 6421,\n",
              " 'drink': 8868,\n",
              " 'measur': 16905,\n",
              " 'cupcak': 7370,\n",
              " 'bottl': 4539,\n",
              " 'fact': 10148,\n",
              " 'pad': 19291,\n",
              " 'popcorn': 20402,\n",
              " 'machin': 16331,\n",
              " 'easier': 9155,\n",
              " 'wrong': 29283,\n",
              " 'countertop': 7016,\n",
              " 'drawer': 8827,\n",
              " 'defect': 7854,\n",
              " 'fix': 10642,\n",
              " 'boy': 4586,\n",
              " 'turn': 27214,\n",
              " 'snap': 24291,\n",
              " 'burn': 5021,\n",
              " 'hell': 12860,\n",
              " 'temp': 26151,\n",
              " 'replac': 21969,\n",
              " 'staff': 24946,\n",
              " 'closet': 6286,\n",
              " 'know': 15144,\n",
              " 'merchandi': 17032,\n",
              " 'speedi': 24676,\n",
              " 'deliveri': 7946,\n",
              " 'american': 2329,\n",
              " 'pie': 19996,\n",
              " 'three': 26451,\n",
              " 'impress': 13720,\n",
              " 'durabl': 9017,\n",
              " 'water': 28555,\n",
              " 'flash': 10675,\n",
              " 'goblet': 11820,\n",
              " 'fluid': 10816,\n",
              " 'beer': 3832,\n",
              " 'even': 9865,\n",
              " 'sit': 23972,\n",
              " 'believ': 3882,\n",
              " 'reorder': 21951,\n",
              " 'rate': 21469,\n",
              " 'whwn': 28880,\n",
              " 'noodl': 18453,\n",
              " 'strainer': 25238,\n",
              " 'thread': 26446,\n",
              " 'socket': 24391,\n",
              " 'bulb': 4948,\n",
              " 'total': 26795,\n",
              " 'unpack': 27679,\n",
              " 'yet': 29468,\n",
              " 'styrofoam': 25399,\n",
              " 'pull': 21007,\n",
              " 'along': 2236,\n",
              " 'otherwi': 19030,\n",
              " 'clear': 6202,\n",
              " 'toilet': 26669,\n",
              " 'holder': 13153,\n",
              " 'sleek': 24107,\n",
              " 'promi': 20835,\n",
              " 'lamp': 15350,\n",
              " 'cooki': 6840,\n",
              " 'cutter': 7436,\n",
              " 'track': 26856,\n",
              " 'shoe': 23688,\n",
              " 'floor': 10770,\n",
              " 'visibl': 28256,\n",
              " 'promptli': 20843,\n",
              " 'ten': 26166,\n",
              " 'slow': 24183,\n",
              " 'toast': 26638,\n",
              " 'rye': 22668,\n",
              " 'bread': 4676,\n",
              " 'becom': 3804,\n",
              " 'rock': 22364,\n",
              " 'over': 19126,\n",
              " 'broken': 4815,\n",
              " 'pasta': 19520,\n",
              " 'cereal': 5670,\n",
              " 'ice': 13537,\n",
              " 'cream': 7157,\n",
              " 'soup': 24563,\n",
              " 'filter': 10533,\n",
              " 'night': 18316,\n",
              " 'noi': 18418,\n",
              " 'variat': 28003,\n",
              " 'fell': 10392,\n",
              " 'becam': 3794,\n",
              " 'unu': 27782,\n",
              " 'strong': 25317,\n",
              " 'world': 29196,\n",
              " 'carpet': 5437,\n",
              " 'floral': 10781,\n",
              " 'dead': 7729,\n",
              " 'head': 12744,\n",
              " 'lght': 15716,\n",
              " 'rum': 22611,\n",
              " 'infu': 13915,\n",
              " 'strawberri': 25259,\n",
              " 'mold': 17531,\n",
              " 'heart': 12786,\n",
              " 'shell': 23610,\n",
              " 'tad': 25887,\n",
              " 'loo': 16045,\n",
              " '15': 279,\n",
              " 'eat': 9174,\n",
              " 'breakfast': 4683,\n",
              " 'nook': 18455,\n",
              " 'classic': 6175,\n",
              " 'honey': 13214,\n",
              " 'temperatur': 26154,\n",
              " 'dishwash': 8437,\n",
              " 'cami': 5237,\n",
              " 'access': 1719,\n",
              " 'white': 28837,\n",
              " 'eleph': 9355,\n",
              " 'singl': 23939,\n",
              " 'fresher': 11147,\n",
              " 'lighter': 15784,\n",
              " 'soon': 24502,\n",
              " 'surpri': 25645,\n",
              " 'blackout': 4184,\n",
              " 'task': 26018,\n",
              " 'standard': 24980,\n",
              " 'present': 20644,\n",
              " 'guest': 12263,\n",
              " '32': 812,\n",
              " 'ozark': 19243,\n",
              " 'amaz': 2300,\n",
              " 'straw': 25258,\n",
              " 'thinner': 26397,\n",
              " 'profess': 20801,\n",
              " 'blender': 4228,\n",
              " 'see': 23293,\n",
              " 'wear': 28626,\n",
              " 'tear': 26084,\n",
              " 'ergonom': 9714,\n",
              " 'correct': 6939,\n",
              " 'mom': 17543,\n",
              " 'summer': 25522,\n",
              " 'quality': 21161,\n",
              " 'tini': 26593,\n",
              " 'spatula': 24630,\n",
              " 'unless': 27639,\n",
              " 'arthriti': 2803,\n",
              " 'reviews': 22148,\n",
              " 'complement': 6584,\n",
              " 'scheme': 23045,\n",
              " 'vibrant': 28143,\n",
              " 'softer': 24408,\n",
              " 'model': 17494,\n",
              " 'freezer': 11132,\n",
              " 'fresh': 11145,\n",
              " 'compact': 6552,\n",
              " 'travel': 26945,\n",
              " 'charm': 5803,\n",
              " 'daili': 7544,\n",
              " 'pug': 20999,\n",
              " 'lid': 15748,\n",
              " 'wrist': 29272,\n",
              " 'sooner': 24503,\n",
              " 'thicker': 26371,\n",
              " 'polka': 20336,\n",
              " 'dot': 8729,\n",
              " 'disappear': 8365,\n",
              " 'hook': 13239,\n",
              " 'ceil': 5623,\n",
              " 'return': 22121,\n",
              " 'exchang': 9943,\n",
              " 'twice': 27264,\n",
              " 'base': 3633,\n",
              " 'knife': 15120,\n",
              " 'sharp': 23561,\n",
              " 'care': 5385,\n",
              " 'itali': 14287,\n",
              " 'rather': 21472,\n",
              " 'scarc': 23007,\n",
              " 'wobbl': 29089,\n",
              " 'though': 26434,\n",
              " 'knob': 15132,\n",
              " 'rod': 22380,\n",
              " 'stuff': 25356,\n",
              " 'rub': 22576,\n",
              " 'hangar': 12527,\n",
              " 'shorter': 23719,\n",
              " 'cotton': 6985,\n",
              " 'king': 15037,\n",
              " 'waterb': 28556,\n",
              " 'mention': 17020,\n",
              " 'kinda': 15024,\n",
              " 'hose': 13293,\n",
              " 'stiff': 25135,\n",
              " 'fun': 11255,\n",
              " 'alic': 2170,\n",
              " 'wonderland': 29120,\n",
              " 'theme': 26314,\n",
              " 'parti': 19483,\n",
              " 'runner': 22621,\n",
              " 'antiqu': 2531,\n",
              " 'balloon': 3515,\n",
              " 'weight': 28676,\n",
              " 'serv': 23435,\n",
              " 'purpo': 21069,\n",
              " 'aesthet': 1934,\n",
              " 'attract': 2991,\n",
              " 'obsolet': 18682,\n",
              " 'shark': 23559,\n",
              " 'wiil': 28925,\n",
              " 'moldi': 17532,\n",
              " 'speed': 24671,\n",
              " 'home': 13183,\n",
              " 'tamal': 25934,\n",
              " 'crack': 7092,\n",
              " 'bad': 3437,\n",
              " 'soap': 24370,\n",
              " 'fish': 10616,\n",
              " 'catti': 5561,\n",
              " 'lunch': 16234,\n",
              " 'sever': 23465,\n",
              " 'lunchbox': 16236,\n",
              " 'preschool': 20640,\n",
              " 'plenti': 20207,\n",
              " 'solo': 24443,\n",
              " 'campfir': 5254,\n",
              " 'stove': 25221,\n",
              " 'test': 26228,\n",
              " 're': 21531,\n",
              " 'scratch': 23151,\n",
              " 'weird': 28686,\n",
              " 'unlik': 27640,\n",
              " 'liner': 15861,\n",
              " 'debri': 7774,\n",
              " 'fall': 10196,\n",
              " 'ad': 1806,\n",
              " 'provid': 20916,\n",
              " 'pot': 20477,\n",
              " 'plea': 20188,\n",
              " 'shown': 23748,\n",
              " 'mudrooma': 17826,\n",
              " 'rack': 21331,\n",
              " 'project': 20819,\n",
              " 'sooooooo': 24508,\n",
              " 'worth': 29216,\n",
              " 'hygien': 13494,\n",
              " 'rim': 22258,\n",
              " 'salt': 22799,\n",
              " 'margarita': 16608,\n",
              " 'trundl': 27125,\n",
              " 'inexpen': 13863,\n",
              " 'queen': 21180,\n",
              " 'corel': 6901,\n",
              " 'decrib': 7828,\n",
              " 'tighter': 26552,\n",
              " 'mind': 17259,\n",
              " 'blade': 4188,\n",
              " 'collect': 6448,\n",
              " 'instruct': 14039,\n",
              " 'mislead': 17367,\n",
              " 'excess': 9942,\n",
              " 'older': 18791,\n",
              " 'version': 28103,\n",
              " 'grow': 12209,\n",
              " 'herb': 12906,\n",
              " 'pan': 19366,\n",
              " 'without': 29062,\n",
              " 'tip': 26603,\n",
              " 'liking': 15811,\n",
              " 'stun': 25366,\n",
              " 'modern': 17497,\n",
              " 'ike': 13605,\n",
              " 'desk': 8087,\n",
              " 'gorgeou': 11927,\n",
              " 'industri': 13848,\n",
              " 'recipi': 21642,\n",
              " 'icetray': 13545,\n",
              " 'easy': 9169,\n",
              " 'relea': 21863,\n",
              " 'scale': 22988,\n",
              " 'within': 29059,\n",
              " 'follow': 10884,\n",
              " 'direct': 8344,\n",
              " 'wo': 29087,\n",
              " 'float': 10763,\n",
              " 'chicken': 5930,\n",
              " 'smoker': 24255,\n",
              " 'hesit': 12941,\n",
              " 'pitcher': 20079,\n",
              " 'drip': 8874,\n",
              " 'name': 17997,\n",
              " 'cart': 5461,\n",
              " 'must': 17903,\n",
              " 'robot': 22359,\n",
              " 'add': 1819,\n",
              " 'bulki': 4955,\n",
              " 'counter': 7004,\n",
              " 'maker': 16456,\n",
              " 'rv': 22656,\n",
              " 'partial': 19484,\n",
              " 'submerg': 25420,\n",
              " 'beginn': 3849,\n",
              " 'went': 28717,\n",
              " 'dark': 7625,\n",
              " 'rare': 21448,\n",
              " 'ac': 1707,\n",
              " 'live': 15928,\n",
              " 'somewh': 24470,\n",
              " 'humid': 13422,\n",
              " 'sharpen': 23562,\n",
              " 'absorb': 1687,\n",
              " 'readi': 21544,\n",
              " 'gray': 12067,\n",
              " 'roller': 22416,\n",
              " 'safe': 22746,\n",
              " 'sew': 23468,\n",
              " 'scissor': 23108,\n",
              " 'behind': 3863,\n",
              " 'seat': 23254,\n",
              " 'proof': 20851,\n",
              " 'dust': 9036,\n",
              " 'dirt': 8354,\n",
              " 'mismatch': 17370,\n",
              " 'header': 12750,\n",
              " 'sinc': 23929,\n",
              " 'said': 22763,\n",
              " 'metal': 17081,\n",
              " 'trick': 27016,\n",
              " 'youd': 29513,\n",
              " '99': 1525,\n",
              " 'built': 4944,\n",
              " 'razor': 21515,\n",
              " 'cut': 7424,\n",
              " 'granddaught': 12017,\n",
              " 'play': 20161,\n",
              " 'saw': 22963,\n",
              " 'skin': 24032,\n",
              " 'hair': 12419,\n",
              " 'simpli': 23915,\n",
              " 'let': 15672,\n",
              " 'peeper': 19656,\n",
              " 'window': 28981,\n",
              " 'gotten': 11952,\n",
              " 'compliment': 6595,\n",
              " 'mount': 17734,\n",
              " 'paidi': 19310,\n",
              " 'enhanc': 9572,\n",
              " 'mood': 17615,\n",
              " 'purifi': 21059,\n",
              " 'doubl': 8732,\n",
              " 'bend': 3916,\n",
              " 'split': 24771,\n",
              " 'resili': 22044,\n",
              " 'outstand': 19111,\n",
              " 'bolt': 4404,\n",
              " 'drop': 8897,\n",
              " 'detail': 8110,\n",
              " 'could': 6993,\n",
              " 'breez': 4705,\n",
              " 'simpl': 23910,\n",
              " 'awhil': 3145,\n",
              " '3rd': 931,\n",
              " 'steam': 25053,\n",
              " 'kettl': 14937,\n",
              " 'quiet': 21204,\n",
              " 'stand': 24978,\n",
              " 'mixer': 17431,\n",
              " 'gadget': 11361,\n",
              " 'move': 17753,\n",
              " 'around': 2779,\n",
              " 'ive': 14321,\n",
              " 'multipl': 17856,\n",
              " 'panel': 19376,\n",
              " 'chip': 5976,\n",
              " 'mark': 16641,\n",
              " 'insid': 13997,\n",
              " 'fuss': 11312,\n",
              " 'begin': 3847,\n",
              " 'anyon': 2553,\n",
              " 'trailer': 26886,\n",
              " 'upright': 27837,\n",
              " 'dine': 8321,\n",
              " 'cheer': 5859,\n",
              " 'christmassi': 6049,\n",
              " 'highest': 13002,\n",
              " 'bell': 3888,\n",
              " 'fridg': 11160,\n",
              " 'everyon': 9889,\n",
              " 'self': 23331,\n",
              " 'explanatori': 10017,\n",
              " 'hemi': 12880,\n",
              " 'tile': 26563,\n",
              " 'spout': 24814,\n",
              " 'regular': 21811,\n",
              " 'me': 16885,\n",
              " 'lili': 15818,\n",
              " 'leav': 15554,\n",
              " 'realist': 21562,\n",
              " 'pair': 19326,\n",
              " 'non': 18437,\n",
              " 'level': 15689,\n",
              " 'law': 15482,\n",
              " 'basic': 3648,\n",
              " 'cookwar': 6846,\n",
              " 'ob': 18655,\n",
              " 'plant': 20125,\n",
              " 'qt': 21139,\n",
              " 'cooker': 6838,\n",
              " 'trust': 27128,\n",
              " 'give': 11722,\n",
              " 'recip': 21641,\n",
              " 'horribl': 13277,\n",
              " 'hole': 13158,\n",
              " 'sewn': 23470,\n",
              " 'grommet': 12180,\n",
              " 'dorm': 8714,\n",
              " 'sleep': 24109,\n",
              " 'found': 11027,\n",
              " 'step': 25086,\n",
              " 'stool': 25191,\n",
              " 'jeep': 14451,\n",
              " 'rice': 22212,\n",
              " 'studi': 25349,\n",
              " 'south': 24569,\n",
              " 'shaman': 23526,\n",
              " 'bet': 3995,\n",
              " 'rubber': 22577,\n",
              " 'grip': 12155,\n",
              " 'issu': 14282,\n",
              " 'sediment': 23290,\n",
              " 'abl': 1647,\n",
              " 'neat': 18103,\n",
              " 'major': 16449,\n",
              " 'pain': 19313,\n",
              " 'hate': 12668,\n",
              " 'gushi': 12323,\n",
              " 'agr': 2016,\n",
              " 'beater': 3777,\n",
              " 'stock': 25167,\n",
              " 'band': 3531,\n",
              " 'wheel': 28772,\n",
              " 'nest': 18190,\n",
              " 'tasti': 26024,\n",
              " 'cutest': 7429,\n",
              " 'nautic': 18067,\n",
              " 'dissatisfi': 8494,\n",
              " 'regard': 21794,\n",
              " 'cheapli': 5840,\n",
              " 'lucki': 16191,\n",
              " 'mmmm': 17463,\n",
              " 'scent': 23037,\n",
              " 'fill': 10519,\n",
              " 'refrig': 21781,\n",
              " 'darn': 7633,\n",
              " 'parrot': 19477,\n",
              " 'satin': 22918,\n",
              " 'pillowca': 20024,\n",
              " 'slip': 24153,\n",
              " 'constantli': 6745,\n",
              " 'ruler': 22610,\n",
              " 'cap': 5323,\n",
              " 'thermo': 26346,\n",
              " 'useless': 27889,\n",
              " 'gilbert': 11678,\n",
              " ...}"
            ]
          },
          "metadata": {},
          "execution_count": 23
        }
      ]
    },
    {
      "cell_type": "code",
      "source": [
        "print(\"Total vocabulary: \", len(bow_transformer.vocabulary_))"
      ],
      "metadata": {
        "colab": {
          "base_uri": "https://localhost:8080/"
        },
        "id": "5phoUkOAO9wZ",
        "outputId": "63f33a85-1452-46cc-9115-5dd6f402788e"
      },
      "execution_count": 24,
      "outputs": [
        {
          "output_type": "stream",
          "name": "stdout",
          "text": [
            "Total vocabulary:  29690\n"
          ]
        }
      ]
    },
    {
      "cell_type": "code",
      "source": [
        "review200 = df['text_'][200]\n",
        "review200"
      ],
      "metadata": {
        "colab": {
          "base_uri": "https://localhost:8080/",
          "height": 35
        },
        "id": "VGsHQTjYUezy",
        "outputId": "d645d113-f5f0-4ed4-e757-6489e15bb12b"
      },
      "execution_count": 25,
      "outputs": [
        {
          "output_type": "execute_result",
          "data": {
            "text/plain": [
              "'perfect candi buffet certainli multipurpo'"
            ],
            "application/vnd.google.colaboratory.intrinsic+json": {
              "type": "string"
            }
          },
          "metadata": {},
          "execution_count": 25
        }
      ]
    },
    {
      "cell_type": "code",
      "source": [
        "bt = bow_transformer.transform([review200])"
      ],
      "metadata": {
        "id": "MIRuuy5QO9_x"
      },
      "execution_count": 26,
      "outputs": []
    },
    {
      "cell_type": "code",
      "source": [
        "print(bt)"
      ],
      "metadata": {
        "colab": {
          "base_uri": "https://localhost:8080/"
        },
        "id": "3k0EkCa8O-OR",
        "outputId": "3fe25aff-6a0a-49a3-be4b-b7d75630cc49"
      },
      "execution_count": 27,
      "outputs": [
        {
          "output_type": "stream",
          "name": "stdout",
          "text": [
            "  (0, 4925)\t1\n",
            "  (0, 5277)\t1\n",
            "  (0, 5676)\t1\n",
            "  (0, 17859)\t1\n",
            "  (0, 19752)\t1\n"
          ]
        }
      ]
    },
    {
      "cell_type": "code",
      "source": [
        "print(bt.shape)"
      ],
      "metadata": {
        "colab": {
          "base_uri": "https://localhost:8080/"
        },
        "id": "ASobcpMVO-ZR",
        "outputId": "546f654d-ae79-469e-b1d8-24ebd35c984e"
      },
      "execution_count": 28,
      "outputs": [
        {
          "output_type": "stream",
          "name": "stdout",
          "text": [
            "(1, 29690)\n"
          ]
        }
      ]
    },
    {
      "cell_type": "code",
      "source": [
        "print(bow_transformer.get_feature_names()[19752])"
      ],
      "metadata": {
        "colab": {
          "base_uri": "https://localhost:8080/"
        },
        "id": "jT2tvQRgO-mh",
        "outputId": "6fa2d7fc-55c4-4aac-e284-722a04afd6c4"
      },
      "execution_count": 29,
      "outputs": [
        {
          "output_type": "stream",
          "name": "stdout",
          "text": [
            "perfect\n"
          ]
        }
      ]
    },
    {
      "cell_type": "code",
      "source": [
        "bow_reviews = bow_transformer.transform(df['text_'])"
      ],
      "metadata": {
        "id": "1jlpRfNHO-w5"
      },
      "execution_count": 30,
      "outputs": []
    },
    {
      "cell_type": "code",
      "source": [
        "print(\"Shape of Bag of Words Transformer for the entire reviews corpus:\",bow_reviews.shape)\n",
        "print(\"Amount of non zero values in the bag of words model:\",bow_reviews.nnz)"
      ],
      "metadata": {
        "colab": {
          "base_uri": "https://localhost:8080/"
        },
        "id": "X0OzE2rGO-7y",
        "outputId": "5a4a5ca5-9283-4393-83f3-0c12cc53e53e"
      },
      "execution_count": 31,
      "outputs": [
        {
          "output_type": "stream",
          "name": "stdout",
          "text": [
            "Shape of Bag of Words Transformer for the entire reviews corpus: (40431, 29690)\n",
            "Amount of non zero values in the bag of words model: 1022944\n"
          ]
        }
      ]
    },
    {
      "cell_type": "code",
      "source": [
        "print(\"Sparsity:\",np.round((bow_reviews.nnz/(bow_reviews.shape[0]*bow_reviews.shape[1]))*100,2))"
      ],
      "metadata": {
        "colab": {
          "base_uri": "https://localhost:8080/"
        },
        "id": "b0r2_mBuVlxW",
        "outputId": "4d470a67-e814-47b5-ec53-b63709a56c53"
      },
      "execution_count": 32,
      "outputs": [
        {
          "output_type": "stream",
          "name": "stdout",
          "text": [
            "Sparsity: 0.09\n"
          ]
        }
      ]
    },
    {
      "cell_type": "code",
      "source": [
        "tfidf_transformer = TfidfTransformer().fit(bow_reviews)\n",
        "tfidf_bt = tfidf_transformer.transform(bt)\n",
        "print(tfidf_bt)"
      ],
      "metadata": {
        "colab": {
          "base_uri": "https://localhost:8080/"
        },
        "id": "5ximHkAeVmBp",
        "outputId": "8bd41d8c-5f80-4f73-ee6f-05738f6fd7a5"
      },
      "execution_count": 33,
      "outputs": [
        {
          "output_type": "stream",
          "name": "stdout",
          "text": [
            "  (0, 19752)\t0.20349864514950194\n",
            "  (0, 17859)\t0.5470122748387846\n",
            "  (0, 5676)\t0.3465696429464138\n",
            "  (0, 5277)\t0.45681003288827504\n",
            "  (0, 4925)\t0.5749608239163982\n"
          ]
        }
      ]
    },
    {
      "cell_type": "code",
      "source": [
        "print(tfidf_transformer.idf_[bow_transformer.vocabulary_['mango']])\n",
        "print(tfidf_transformer.idf_[bow_transformer.vocabulary_['book']])"
      ],
      "metadata": {
        "colab": {
          "base_uri": "https://localhost:8080/"
        },
        "id": "PClZCxfoVmLR",
        "outputId": "7f973440-ffe1-4deb-abc7-06b2952058cc"
      },
      "execution_count": 34,
      "outputs": [
        {
          "output_type": "stream",
          "name": "stdout",
          "text": [
            "10.91422964906803\n",
            "2.819393433430175\n"
          ]
        }
      ]
    },
    {
      "cell_type": "code",
      "source": [
        "tfidf_reviews = tfidf_transformer.transform(bow_reviews)\n",
        "print(\"Shape:\",tfidf_reviews.shape)\n",
        "print(\"No. of Dimensions:\",tfidf_reviews.ndim)"
      ],
      "metadata": {
        "colab": {
          "base_uri": "https://localhost:8080/"
        },
        "id": "I3LOxbEKVmUB",
        "outputId": "dba83fce-45de-4a45-e7a4-c6595b77ea42"
      },
      "execution_count": 35,
      "outputs": [
        {
          "output_type": "stream",
          "name": "stdout",
          "text": [
            "Shape: (40431, 29690)\n",
            "No. of Dimensions: 2\n"
          ]
        }
      ]
    },
    {
      "cell_type": "markdown",
      "source": [
        "Creating training and testing data"
      ],
      "metadata": {
        "id": "5PXAZkS0VmeZ"
      }
    },
    {
      "cell_type": "code",
      "source": [
        "rev_train, rev_test, lab_train, lab_test = train_test_split(df['text_'], df['label'], test_size=0.35)"
      ],
      "metadata": {
        "id": "W2zjLnyPVmoR"
      },
      "execution_count": 36,
      "outputs": []
    },
    {
      "cell_type": "code",
      "source": [
        "def text_process(review):\n",
        "    nopunc = [char for char in review if char not in string.punctuation]\n",
        "    nopunc = ''.join(nopunc)\n",
        "    return [word for word in nopunc.split() if word.lower() not in stopwords.words('english')]"
      ],
      "metadata": {
        "id": "Oc3TMtKDO_FV"
      },
      "execution_count": 37,
      "outputs": []
    },
    {
      "cell_type": "code",
      "source": [
        "pipeline = Pipeline([\n",
        "    ('bow',CountVectorizer(analyzer=text_process)),\n",
        "    ('tfidf',TfidfTransformer()),\n",
        "    ('classifier',MultinomialNB())\n",
        "])"
      ],
      "metadata": {
        "id": "h5SaMdIRg03y"
      },
      "execution_count": 40,
      "outputs": []
    },
    {
      "cell_type": "markdown",
      "source": [
        "Training and testing Multinomial Naive Bayes Algorithm on the preprocessed data"
      ],
      "metadata": {
        "id": "ru-qkQbon_0c"
      }
    },
    {
      "cell_type": "code",
      "source": [
        "pipeline.fit(rev_train,lab_train)\n"
      ],
      "metadata": {
        "id": "SD7o1hvpg0_l",
        "colab": {
          "base_uri": "https://localhost:8080/"
        },
        "outputId": "684b6fc2-9cc3-4641-c962-b6b7d365bda7"
      },
      "execution_count": 48,
      "outputs": [
        {
          "output_type": "execute_result",
          "data": {
            "text/plain": [
              "Pipeline(steps=[('bow',\n",
              "                 CountVectorizer(analyzer=<function text_process at 0x7f9c92331d30>)),\n",
              "                ('tfidf', TfidfTransformer()),\n",
              "                ('classifier', MultinomialNB())])"
            ]
          },
          "metadata": {},
          "execution_count": 48
        }
      ]
    },
    {
      "cell_type": "code",
      "source": [
        "predictions = pipeline.predict(rev_test)\n",
        "predictions\n"
      ],
      "metadata": {
        "colab": {
          "base_uri": "https://localhost:8080/"
        },
        "id": "DijK_NpnpwGJ",
        "outputId": "2c608405-3559-4788-e663-4994b0536edc"
      },
      "execution_count": 51,
      "outputs": [
        {
          "output_type": "execute_result",
          "data": {
            "text/plain": [
              "array(['CG', 'OR', 'OR', ..., 'CG', 'CG', 'CG'], dtype='<U2')"
            ]
          },
          "metadata": {},
          "execution_count": 51
        }
      ]
    },
    {
      "cell_type": "code",
      "source": [
        "print('Classification Report:',classification_report(lab_test,predictions))\n",
        "print('Confusion Matrix:',confusion_matrix(lab_test,predictions))\n",
        "print('Accuracy Score:',accuracy_score(lab_test,predictions))"
      ],
      "metadata": {
        "colab": {
          "base_uri": "https://localhost:8080/"
        },
        "id": "1Nt8Oxx8pwRu",
        "outputId": "b3ff7019-2ad3-4001-eb67-001755c23f4c"
      },
      "execution_count": 54,
      "outputs": [
        {
          "output_type": "stream",
          "name": "stdout",
          "text": [
            "Classification Report:               precision    recall  f1-score   support\n",
            "\n",
            "          CG       0.82      0.89      0.85      7036\n",
            "          OR       0.88      0.81      0.84      7115\n",
            "\n",
            "    accuracy                           0.85     14151\n",
            "   macro avg       0.85      0.85      0.85     14151\n",
            "weighted avg       0.85      0.85      0.85     14151\n",
            "\n",
            "Confusion Matrix: [[6253  783]\n",
            " [1379 5736]]\n",
            "Accuracy Score: 0.8472192777895555\n"
          ]
        }
      ]
    },
    {
      "cell_type": "code",
      "source": [
        "print('Model Prediction Accuracy:',str(np.round(accuracy_score(lab_test,predictions)*100,2)) + '%')"
      ],
      "metadata": {
        "colab": {
          "base_uri": "https://localhost:8080/"
        },
        "id": "msbHtwUIpwbd",
        "outputId": "672ae74c-2c77-4cbb-ce4f-5bf6505d01f2"
      },
      "execution_count": 57,
      "outputs": [
        {
          "output_type": "stream",
          "name": "stdout",
          "text": [
            "Model Prediction Accuracy: 84.72%\n"
          ]
        }
      ]
    },
    {
      "cell_type": "code",
      "source": [
        "pipeline = Pipeline([\n",
        "    ('bow',CountVectorizer(analyzer=text_process)),\n",
        "    ('tfidf',TfidfTransformer()),\n",
        "    ('classifier',RandomForestClassifier())\n",
        "])\n"
      ],
      "metadata": {
        "id": "cmCoj1nypwkH"
      },
      "execution_count": 58,
      "outputs": []
    },
    {
      "cell_type": "markdown",
      "source": [
        "random forest"
      ],
      "metadata": {
        "id": "7g90Nj_Uq_Ve"
      }
    },
    {
      "cell_type": "code",
      "source": [
        "pipeline = Pipeline([\n",
        "    ('bow',CountVectorizer(analyzer=text_process)),\n",
        "    ('tfidf',TfidfTransformer()),\n",
        "    ('classifier',RandomForestClassifier())\n",
        "])"
      ],
      "metadata": {
        "id": "4f36-MPEq_ld"
      },
      "execution_count": 59,
      "outputs": []
    },
    {
      "cell_type": "code",
      "source": [
        "pipeline.fit(rev_train,lab_train)"
      ],
      "metadata": {
        "colab": {
          "base_uri": "https://localhost:8080/"
        },
        "id": "01T3vtDNq_9t",
        "outputId": "fccab824-bbb6-4180-dcf4-9c69c4b2cb98"
      },
      "execution_count": 60,
      "outputs": [
        {
          "output_type": "execute_result",
          "data": {
            "text/plain": [
              "Pipeline(steps=[('bow',\n",
              "                 CountVectorizer(analyzer=<function text_process at 0x7f9c92331d30>)),\n",
              "                ('tfidf', TfidfTransformer()),\n",
              "                ('classifier', RandomForestClassifier())])"
            ]
          },
          "metadata": {},
          "execution_count": 60
        }
      ]
    },
    {
      "cell_type": "code",
      "source": [
        "rfc_pred = pipeline.predict(rev_test)\n",
        "rfc_pred"
      ],
      "metadata": {
        "colab": {
          "base_uri": "https://localhost:8080/"
        },
        "id": "in_z4NWsrAPz",
        "outputId": "3697e992-d1fd-4bfd-e54e-69ac487354d8"
      },
      "execution_count": 61,
      "outputs": [
        {
          "output_type": "execute_result",
          "data": {
            "text/plain": [
              "array(['CG', 'OR', 'CG', ..., 'CG', 'OR', 'CG'], dtype=object)"
            ]
          },
          "metadata": {},
          "execution_count": 61
        }
      ]
    },
    {
      "cell_type": "code",
      "source": [
        "print('Classification Report:',classification_report(lab_test,rfc_pred))\n",
        "print('Confusion Matrix:',confusion_matrix(lab_test,rfc_pred))\n",
        "print('Accuracy Score:',accuracy_score(lab_test,rfc_pred))\n",
        "print('Model Prediction Accuracy:',str(np.round(accuracy_score(lab_test,rfc_pred)*100,2)) + '%')\n"
      ],
      "metadata": {
        "colab": {
          "base_uri": "https://localhost:8080/"
        },
        "id": "Re50B3BjrAfF",
        "outputId": "4259c1c5-2628-47b4-c1bf-ee25f6925739"
      },
      "execution_count": 62,
      "outputs": [
        {
          "output_type": "stream",
          "name": "stdout",
          "text": [
            "Classification Report:               precision    recall  f1-score   support\n",
            "\n",
            "          CG       0.81      0.88      0.84      7036\n",
            "          OR       0.87      0.80      0.83      7115\n",
            "\n",
            "    accuracy                           0.84     14151\n",
            "   macro avg       0.84      0.84      0.84     14151\n",
            "weighted avg       0.84      0.84      0.84     14151\n",
            "\n",
            "Confusion Matrix: [[6192  844]\n",
            " [1451 5664]]\n",
            "Accuracy Score: 0.8378206487174051\n",
            "Model Prediction Accuracy: 83.78%\n"
          ]
        }
      ]
    },
    {
      "cell_type": "markdown",
      "source": [
        "DecisionTreeClassifier"
      ],
      "metadata": {
        "id": "B1eXLsFVrArq"
      }
    },
    {
      "cell_type": "code",
      "source": [
        "pipeline = Pipeline([\n",
        "    ('bow',CountVectorizer(analyzer=text_process)),\n",
        "    ('tfidf',TfidfTransformer()),\n",
        "    ('classifier',DecisionTreeClassifier())\n",
        "])\n"
      ],
      "metadata": {
        "id": "kYxQdz6FrA3U"
      },
      "execution_count": 62,
      "outputs": []
    },
    {
      "cell_type": "code",
      "source": [
        "pipeline.fit(rev_train,lab_train)"
      ],
      "metadata": {
        "id": "ece2_MGWrBEG"
      },
      "execution_count": 62,
      "outputs": []
    },
    {
      "cell_type": "code",
      "source": [
        "dtree_pred = pipeline.predict(rev_test)\n",
        "dtree_pred"
      ],
      "metadata": {
        "colab": {
          "base_uri": "https://localhost:8080/"
        },
        "id": "DoIcCQz3rxLm",
        "outputId": "407944f4-3b81-4068-aa0f-b61960b7cb6a"
      },
      "execution_count": 63,
      "outputs": [
        {
          "output_type": "execute_result",
          "data": {
            "text/plain": [
              "array(['CG', 'OR', 'CG', ..., 'CG', 'OR', 'CG'], dtype=object)"
            ]
          },
          "metadata": {},
          "execution_count": 63
        }
      ]
    },
    {
      "cell_type": "code",
      "source": [
        "print('Classification Report:',classification_report(lab_test,dtree_pred))\n",
        "print('Confusion Matrix:',confusion_matrix(lab_test,dtree_pred))\n",
        "print('Accuracy Score:',accuracy_score(lab_test,dtree_pred))\n",
        "print('Model Prediction Accuracy:',str(np.round(accuracy_score(lab_test,dtree_pred)*100,2)) + '%')"
      ],
      "metadata": {
        "colab": {
          "base_uri": "https://localhost:8080/"
        },
        "id": "LkPbmwm-rxaj",
        "outputId": "0c93a8a7-19e0-4974-b4f3-e13cad79d96a"
      },
      "execution_count": 64,
      "outputs": [
        {
          "output_type": "stream",
          "name": "stdout",
          "text": [
            "Classification Report:               precision    recall  f1-score   support\n",
            "\n",
            "          CG       0.81      0.88      0.84      7036\n",
            "          OR       0.87      0.80      0.83      7115\n",
            "\n",
            "    accuracy                           0.84     14151\n",
            "   macro avg       0.84      0.84      0.84     14151\n",
            "weighted avg       0.84      0.84      0.84     14151\n",
            "\n",
            "Confusion Matrix: [[6192  844]\n",
            " [1451 5664]]\n",
            "Accuracy Score: 0.8378206487174051\n",
            "Model Prediction Accuracy: 83.78%\n"
          ]
        }
      ]
    },
    {
      "cell_type": "code",
      "source": [],
      "metadata": {
        "id": "XzSLzeEOrxr_"
      },
      "execution_count": null,
      "outputs": []
    },
    {
      "cell_type": "code",
      "source": [],
      "metadata": {
        "id": "9H0eNMydrx6C"
      },
      "execution_count": null,
      "outputs": []
    },
    {
      "cell_type": "code",
      "source": [],
      "metadata": {
        "id": "4TPXU8m-ryEl"
      },
      "execution_count": null,
      "outputs": []
    }
  ],
  "metadata": {
    "colab": {
      "provenance": []
    },
    "kernelspec": {
      "display_name": "Python 3",
      "name": "python3"
    },
    "language_info": {
      "name": "python"
    }
  },
  "nbformat": 4,
  "nbformat_minor": 0
}